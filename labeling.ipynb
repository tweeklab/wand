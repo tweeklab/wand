{
 "cells": [
  {
   "cell_type": "code",
   "execution_count": 1,
   "metadata": {},
   "outputs": [],
   "source": [
    "import ipywidgets as widgets\n",
    "from functools import partial\n",
    "import shutil\n",
    "import yaml\n",
    "import os\n",
    "\n",
    "LABELS_PATH=\"labels.yaml\"\n",
    "INCOMING_IMAGES_DIR = \"images/esp32/live\"\n",
    "GOOD_IMAGES_DIR = \"images/esp32/good\"\n",
    "DISCARD_IMAGES_DIR = \"images/esp32/discard\""
   ]
  },
  {
   "cell_type": "code",
   "execution_count": 2,
   "metadata": {},
   "outputs": [],
   "source": [
    "with open(LABELS_PATH) as f:\n",
    "    labels = [l for l in yaml.load(f, Loader=yaml.SafeLoader)[\"labels\"]]\n",
    "\n",
    "extra_labels = ['discard', 'trash']\n",
    "labels += extra_labels\n",
    "\n",
    "for d in labels:\n",
    "    os.makedirs(os.path.join(INCOMING_IMAGES_DIR, d), exist_ok=True)\n",
    "\n",
    "image_files = []\n",
    "for dir, _, files in os.walk(INCOMING_IMAGES_DIR):\n",
    "    for file in files:\n",
    "        image_files.append((os.path.basename(dir), os.path.join(dir, file)))"
   ]
  },
  {
   "cell_type": "code",
   "execution_count": 3,
   "metadata": {},
   "outputs": [
    {
     "data": {
      "application/vnd.jupyter.widget-view+json": {
       "model_id": "69c3290b424d428b885feffaaf09dcf4",
       "version_major": 2,
       "version_minor": 0
      },
      "text/plain": [
       "VBox(children=(GridBox(children=(VBox(children=(HBox(children=(Label(value='0'), Image(value=b'\\x89PNG\\r\\n\\x1a…"
      ]
     },
     "execution_count": 3,
     "metadata": {},
     "output_type": "execute_result"
    }
   ],
   "source": [
    "def do_move(img_filename, chg):\n",
    "    oldpath = os.path.join(INCOMING_IMAGES_DIR, chg['old'], img_filename)\n",
    "    newpath = os.path.join(INCOMING_IMAGES_DIR, chg['new'], img_filename)\n",
    "    print(f\"Move {img_filename} from {oldpath} to {newpath}\")\n",
    "    if not os.path.isdir(os.path.dirname(newpath)):\n",
    "        os.makedirs(os.path.dirname(newpath), exist_ok=True)\n",
    "    shutil.move(oldpath, newpath)\n",
    "\n",
    "def do_commit(btn):\n",
    "    shutil.rmtree(os.path.join(INCOMING_IMAGES_DIR, 'trash'))\n",
    "    for f in os.listdir(os.path.join(INCOMING_IMAGES_DIR, 'discard')):\n",
    "        shutil.move(os.path.join(INCOMING_IMAGES_DIR, 'discard', f), DISCARD_IMAGES_DIR)\n",
    "    for l in labels:\n",
    "        if l in extra_labels:\n",
    "            continue\n",
    "        for f in os.listdir(os.path.join(INCOMING_IMAGES_DIR, l)):\n",
    "            shutil.move(os.path.join(INCOMING_IMAGES_DIR, l, f), os.path.join(GOOD_IMAGES_DIR, l))\n",
    "\n",
    "\n",
    "im_selectors = []\n",
    "for i,imgfile in enumerate(image_files):\n",
    "    with open(imgfile[1], \"rb\") as f:\n",
    "        img = f.read()\n",
    "    img_filename = os.path.basename(imgfile[1])\n",
    "    im_widget = widgets.HBox([\n",
    "        widgets.Label(value=str(i)),\n",
    "        widgets.Image(value=img, format='png', width=40, height=29)\n",
    "    ])\n",
    "    dd = widgets.Dropdown(\n",
    "        options=labels,\n",
    "        value=imgfile[0],\n",
    "        disabled=False,\n",
    "        layout=widgets.Layout(width='95%')\n",
    "    )\n",
    "    dd.observe(partial(do_move, img_filename), names=['value'])\n",
    "    im_selectors.append(widgets.VBox([im_widget, dd]))\n",
    "pic_grid = widgets.GridBox(im_selectors, layout=widgets.Layout(grid_template_columns=\"repeat(10, 150px)\"))\n",
    "commit_btn = widgets.Button(\n",
    "    description=\"Commit\",\n",
    "    icon=\"check\"\n",
    ")\n",
    "commit_btn.on_click(do_commit)\n",
    "widgets.VBox([pic_grid, commit_btn])"
   ]
  }
 ],
 "metadata": {
  "kernelspec": {
   "display_name": "Python 3",
   "language": "python",
   "name": "python3"
  },
  "language_info": {
   "codemirror_mode": {
    "name": "ipython",
    "version": 3
   },
   "file_extension": ".py",
   "mimetype": "text/x-python",
   "name": "python",
   "nbconvert_exporter": "python",
   "pygments_lexer": "ipython3",
   "version": "3.10.6"
  },
  "orig_nbformat": 4
 },
 "nbformat": 4,
 "nbformat_minor": 2
}
