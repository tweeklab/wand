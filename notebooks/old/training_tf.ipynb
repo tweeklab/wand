{
 "cells": [
  {
   "cell_type": "code",
   "execution_count": 1,
   "metadata": {},
   "outputs": [
    {
     "name": "stderr",
     "output_type": "stream",
     "text": [
      "2023-06-04 17:51:16.865532: I tensorflow/core/platform/cpu_feature_guard.cc:182] This TensorFlow binary is optimized to use available CPU instructions in performance-critical operations.\n",
      "To enable the following instructions: AVX2 FMA, in other operations, rebuild TensorFlow with the appropriate compiler flags.\n",
      "2023-06-04 17:51:17.626659: W tensorflow/compiler/tf2tensorrt/utils/py_utils.cc:38] TF-TRT Warning: Could not find TensorRT\n"
     ]
    }
   ],
   "source": [
    "import os\n",
    "import yaml\n",
    "import random\n",
    "\n",
    "import numpy as np\n",
    "import pandas as pd\n",
    "import tensorflow as tf\n",
    "from PIL import Image\n",
    "\n",
    "import matplotlib.pyplot as plt\n",
    "\n",
    "np.set_printoptions(precision=4)\n",
    "\n",
    "LABELS_PATH=\"labels.yaml\"\n",
    "IMAGES_BASE=\"/workspaces/motion/images/esp32/good\"\n",
    "BATCH_SIZE=10"
   ]
  },
  {
   "cell_type": "code",
   "execution_count": 2,
   "metadata": {},
   "outputs": [
    {
     "name": "stderr",
     "output_type": "stream",
     "text": [
      "2023-06-04 17:51:18.728729: I tensorflow/compiler/xla/stream_executor/cuda/cuda_gpu_executor.cc:982] could not open file to read NUMA node: /sys/bus/pci/devices/0000:01:00.0/numa_node\n",
      "Your kernel may have been built without NUMA support.\n",
      "2023-06-04 17:51:18.855241: I tensorflow/compiler/xla/stream_executor/cuda/cuda_gpu_executor.cc:982] could not open file to read NUMA node: /sys/bus/pci/devices/0000:01:00.0/numa_node\n",
      "Your kernel may have been built without NUMA support.\n",
      "2023-06-04 17:51:18.855291: I tensorflow/compiler/xla/stream_executor/cuda/cuda_gpu_executor.cc:982] could not open file to read NUMA node: /sys/bus/pci/devices/0000:01:00.0/numa_node\n",
      "Your kernel may have been built without NUMA support.\n"
     ]
    },
    {
     "data": {
      "text/plain": [
       "[PhysicalDevice(name='/physical_device:CPU:0', device_type='CPU'),\n",
       " PhysicalDevice(name='/physical_device:GPU:0', device_type='GPU')]"
      ]
     },
     "execution_count": 2,
     "metadata": {},
     "output_type": "execute_result"
    }
   ],
   "source": [
    "tf.config.list_physical_devices()"
   ]
  },
  {
   "cell_type": "code",
   "execution_count": 3,
   "metadata": {},
   "outputs": [
    {
     "name": "stderr",
     "output_type": "stream",
     "text": [
      "2023-06-04 17:51:19.021338: I tensorflow/compiler/xla/stream_executor/cuda/cuda_gpu_executor.cc:982] could not open file to read NUMA node: /sys/bus/pci/devices/0000:01:00.0/numa_node\n",
      "Your kernel may have been built without NUMA support.\n",
      "2023-06-04 17:51:19.021462: I tensorflow/compiler/xla/stream_executor/cuda/cuda_gpu_executor.cc:982] could not open file to read NUMA node: /sys/bus/pci/devices/0000:01:00.0/numa_node\n",
      "Your kernel may have been built without NUMA support.\n",
      "2023-06-04 17:51:19.021498: I tensorflow/compiler/xla/stream_executor/cuda/cuda_gpu_executor.cc:982] could not open file to read NUMA node: /sys/bus/pci/devices/0000:01:00.0/numa_node\n",
      "Your kernel may have been built without NUMA support.\n",
      "2023-06-04 17:51:19.860103: I tensorflow/compiler/xla/stream_executor/cuda/cuda_gpu_executor.cc:982] could not open file to read NUMA node: /sys/bus/pci/devices/0000:01:00.0/numa_node\n",
      "Your kernel may have been built without NUMA support.\n",
      "2023-06-04 17:51:19.860226: I tensorflow/compiler/xla/stream_executor/cuda/cuda_gpu_executor.cc:982] could not open file to read NUMA node: /sys/bus/pci/devices/0000:01:00.0/numa_node\n",
      "Your kernel may have been built without NUMA support.\n",
      "2023-06-04 17:51:19.860236: I tensorflow/core/common_runtime/gpu/gpu_device.cc:1722] Could not identify NUMA node of platform GPU id 0, defaulting to 0.  Your kernel may not have been built with NUMA support.\n",
      "2023-06-04 17:51:19.860268: I tensorflow/compiler/xla/stream_executor/cuda/cuda_gpu_executor.cc:982] could not open file to read NUMA node: /sys/bus/pci/devices/0000:01:00.0/numa_node\n",
      "Your kernel may have been built without NUMA support.\n",
      "2023-06-04 17:51:19.860423: I tensorflow/core/common_runtime/gpu/gpu_device.cc:1635] Created device /job:localhost/replica:0/task:0/device:GPU:0 with 8859 MB memory:  -> device: 0, name: NVIDIA GeForce RTX 2080 Ti, pci bus id: 0000:01:00.0, compute capability: 7.5\n"
     ]
    },
    {
     "data": {
      "text/plain": [
       "<_BatchDataset element_spec=(TensorSpec(shape=(None, 29, 40, 1), dtype=tf.float32, name=None), TensorSpec(shape=(None,), dtype=tf.int64, name=None))>"
      ]
     },
     "metadata": {},
     "output_type": "display_data"
    },
    {
     "name": "stdout",
     "output_type": "stream",
     "text": [
      "tf.Tensor([0 7 2 3 7 3 6 3 7 3], shape=(10,), dtype=int64)\n",
      "tf.Tensor([2 2 5 0 4 2 3 4 0 5], shape=(10,), dtype=int64)\n",
      "tf.Tensor([2 3 0 4 5 1 0 7 2 6], shape=(10,), dtype=int64)\n",
      "tf.Tensor([0 7 7 7 3 7 0 3 1 2], shape=(10,), dtype=int64)\n",
      "tf.Tensor([5 7 1 1 1 5 1 3 5 3], shape=(10,), dtype=int64)\n",
      "tf.Tensor([2 4 2 3 1 5 4 4 3 7], shape=(10,), dtype=int64)\n",
      "tf.Tensor([1 2 5 0 2 6 4 3 4 4], shape=(10,), dtype=int64)\n",
      "tf.Tensor([1 4 3 0 2 3 5 0 3 7], shape=(10,), dtype=int64)\n",
      "tf.Tensor([1 4 7 2 5 4 7 1 3 2], shape=(10,), dtype=int64)\n",
      "tf.Tensor([4 4 4 1 2 4 4 2 0 3], shape=(10,), dtype=int64)\n",
      "tf.Tensor([7 2 0 2 4 7 3 1 6 2], shape=(10,), dtype=int64)\n",
      "tf.Tensor([4 2 4 3 3 4 0 0 6 5], shape=(10,), dtype=int64)\n",
      "tf.Tensor([3 6 2 0 4 2 6 6 4 4], shape=(10,), dtype=int64)\n",
      "tf.Tensor([6 4 4 6 2 3 7 2 2 2], shape=(10,), dtype=int64)\n",
      "tf.Tensor([3 4 2 2 0 2 5 5 2 0], shape=(10,), dtype=int64)\n",
      "tf.Tensor([2 5 2 1 0 5 2 4 4 5], shape=(10,), dtype=int64)\n",
      "tf.Tensor([7 4 4 5 6 4 6 0 0 4], shape=(10,), dtype=int64)\n",
      "tf.Tensor([0 2 6 1 6 4 6 0 6 1], shape=(10,), dtype=int64)\n",
      "tf.Tensor([7 3 4 4 1 2 1 3 2 5], shape=(10,), dtype=int64)\n",
      "tf.Tensor([6 4 5 4 0 2 2 6 4 2], shape=(10,), dtype=int64)\n",
      "tf.Tensor([5 4 1 7 1 1 2 3 2 4], shape=(10,), dtype=int64)\n",
      "tf.Tensor([4 5 3 1 1 6 2 4 6 2], shape=(10,), dtype=int64)\n",
      "tf.Tensor([1 4 7 6 7 3 4 6 7 4], shape=(10,), dtype=int64)\n",
      "tf.Tensor([2 7 0 7 2 4 4 4 7 6], shape=(10,), dtype=int64)\n",
      "tf.Tensor([2 3 2 6 5 6 4 2 7 3], shape=(10,), dtype=int64)\n",
      "tf.Tensor([2 6 2 5 4 4 6 4 7 3], shape=(10,), dtype=int64)\n",
      "tf.Tensor([6 5 4 2 3 0 2 2 4 2], shape=(10,), dtype=int64)\n",
      "tf.Tensor([3 2 3 5 1 4 4 1 1 2], shape=(10,), dtype=int64)\n",
      "tf.Tensor([6 3 7 7 3 3 3 2 4 4], shape=(10,), dtype=int64)\n",
      "tf.Tensor([4 2 2 2 5 5 0 3 1 5], shape=(10,), dtype=int64)\n",
      "tf.Tensor([2 2 7 6 4 3 3 0 4 2], shape=(10,), dtype=int64)\n",
      "tf.Tensor([2 6 5 3 3 2 5 4 1 4], shape=(10,), dtype=int64)\n",
      "tf.Tensor([4 1 1 4 3 7 2 6 0 2], shape=(10,), dtype=int64)\n",
      "tf.Tensor([1 2 5 3 1 7 3 4 7 5], shape=(10,), dtype=int64)\n",
      "tf.Tensor([7 2 6 4 1 1 7 3 0 0], shape=(10,), dtype=int64)\n",
      "tf.Tensor([0 4 6 2 6 0 5 5 0 2], shape=(10,), dtype=int64)\n",
      "tf.Tensor([7 1 6 2 1 6 3 0 3 3], shape=(10,), dtype=int64)\n",
      "tf.Tensor([5 2 0 5 1 6 2 7 0 4], shape=(10,), dtype=int64)\n",
      "tf.Tensor([3 6 1 7 2 1 7 5 4 4], shape=(10,), dtype=int64)\n",
      "tf.Tensor([3 0 7 5 3 3 0 3 1 7], shape=(10,), dtype=int64)\n",
      "tf.Tensor([4 2 0 1 2 3 3 3 1 4], shape=(10,), dtype=int64)\n",
      "tf.Tensor([0 6 7 0 2 1 7 3 4 4], shape=(10,), dtype=int64)\n",
      "tf.Tensor([1 4 2 4 7 3 2 4 3 3], shape=(10,), dtype=int64)\n",
      "tf.Tensor([1 6 4 2 1 7 6 2], shape=(8,), dtype=int64)\n"
     ]
    },
    {
     "name": "stderr",
     "output_type": "stream",
     "text": [
      "2023-06-04 17:51:20.346623: I tensorflow/core/common_runtime/executor.cc:1197] [/device:CPU:0] (DEBUG INFO) Executor start aborting (this does not indicate an error and you can ignore this message): INVALID_ARGUMENT: You must feed a value for placeholder tensor 'Placeholder/_1' with dtype int64 and shape [638]\n",
      "\t [[{{node Placeholder/_1}}]]\n"
     ]
    }
   ],
   "source": [
    "with open(LABELS_PATH) as f:\n",
    "    label_map = yaml.load(f, Loader=yaml.SafeLoader)[\"labels\"]\n",
    "reverse_label_map = {v:k for k,v in label_map.items()}\n",
    "\n",
    "examples = []\n",
    "examples_labels = []\n",
    "for dir,_,files in os.walk(IMAGES_BASE):\n",
    "    for file in files:\n",
    "        examples.append(np.asarray(Image.open(os.path.join(dir, file)).point(lambda x: 255 if x>0 else 0), dtype=np.float32).reshape(29, 40, 1))\n",
    "        examples_labels.append(label_map[os.path.basename(dir)])\n",
    "examples_numpy = np.asarray(examples)\n",
    "examples_labels_numpy = np.asanyarray(examples_labels)\n",
    "\n",
    "ds = tf.data.Dataset.from_tensor_slices((examples_numpy, examples_labels_numpy))\n",
    "ds = ds.shuffle(buffer_size=2000, reshuffle_each_iteration=False).batch(BATCH_SIZE)\n",
    "display(ds)\n",
    "\n",
    "val_ds = ds.take(10)\n",
    "test_ds = ds.skip(10).take(10)\n",
    "train_ds = ds.skip(20)\n",
    "\n",
    "for batch in train_ds:\n",
    "    print(batch[1])"
   ]
  },
  {
   "cell_type": "raw",
   "metadata": {},
   "source": [
    "for batch in test_ds.take(1):\n",
    "    labels = batch[1]\n",
    "    images = batch[0]\n",
    "\n",
    "    plt.figure(figsize=(5, 5))\n",
    "\n",
    "    for (i, (label, image)) in enumerate(zip(labels, images)):\n",
    "        ax = plt.subplot(2, 5, i + 1)\n",
    "        ax.set_title(f\"label: {label}\")\n",
    "        ax.imshow(image.numpy().astype(np.uint8))"
   ]
  },
  {
   "cell_type": "code",
   "execution_count": 4,
   "metadata": {},
   "outputs": [
    {
     "name": "stdout",
     "output_type": "stream",
     "text": [
      "Epoch 1/30\n"
     ]
    },
    {
     "name": "stderr",
     "output_type": "stream",
     "text": [
      "/home/vscode/.local/lib/python3.10/site-packages/keras/backend.py:5612: UserWarning: \"`sparse_categorical_crossentropy` received `from_logits=True`, but the `output` argument was produced by a Softmax activation and thus does not represent logits. Was this intended?\n",
      "  output, from_logits = _get_logits(\n",
      "2023-06-04 17:51:20.968816: E tensorflow/core/grappler/optimizers/meta_optimizer.cc:954] layout failed: INVALID_ARGUMENT: Size of values 0 does not match size of permutation 4 @ fanin shape insequential/dropout/dropout/SelectV2-2-TransposeNHWCToNCHW-LayoutOptimizer\n",
      "2023-06-04 17:51:21.914307: I tensorflow/compiler/xla/stream_executor/cuda/cuda_dnn.cc:424] Loaded cuDNN version 8700\n",
      "2023-06-04 17:51:22.901312: I tensorflow/compiler/xla/service/service.cc:169] XLA service 0x556b2326d370 initialized for platform CUDA (this does not guarantee that XLA will be used). Devices:\n",
      "2023-06-04 17:51:22.901356: I tensorflow/compiler/xla/service/service.cc:177]   StreamExecutor device (0): NVIDIA GeForce RTX 2080 Ti, Compute Capability 7.5\n",
      "2023-06-04 17:51:22.914005: I tensorflow/compiler/mlir/tensorflow/utils/dump_mlir_util.cc:269] disabling MLIR crash reproducer, set env var `MLIR_CRASH_REPRODUCER_DIRECTORY` to enable.\n",
      "2023-06-04 17:51:23.101597: I ./tensorflow/compiler/jit/device_compiler.h:180] Compiled cluster using XLA!  This line is logged at most once for the lifetime of the process.\n"
     ]
    },
    {
     "name": "stdout",
     "output_type": "stream",
     "text": [
      "44/44 [==============================] - 4s 9ms/step - loss: 100.2522 - accuracy: 0.1941 - val_loss: 6.1633 - val_accuracy: 0.6600\n",
      "Epoch 2/30\n",
      "15/44 [=========>....................] - ETA: 0s - loss: 35.6730 - accuracy: 0.3533"
     ]
    },
    {
     "name": "stderr",
     "output_type": "stream",
     "text": [
      "2023-06-04 17:51:24.257272: I tensorflow/core/common_runtime/executor.cc:1197] [/device:CPU:0] (DEBUG INFO) Executor start aborting (this does not indicate an error and you can ignore this message): INVALID_ARGUMENT: You must feed a value for placeholder tensor 'Placeholder/_1' with dtype int64 and shape [638]\n",
      "\t [[{{node Placeholder/_1}}]]\n",
      "2023-06-04 17:51:24.257491: I tensorflow/core/common_runtime/executor.cc:1197] [/device:CPU:0] (DEBUG INFO) Executor start aborting (this does not indicate an error and you can ignore this message): INVALID_ARGUMENT: You must feed a value for placeholder tensor 'Placeholder/_0' with dtype float and shape [638,29,40,1]\n",
      "\t [[{{node Placeholder/_0}}]]\n"
     ]
    },
    {
     "name": "stdout",
     "output_type": "stream",
     "text": [
      "44/44 [==============================] - 0s 5ms/step - loss: 26.7829 - accuracy: 0.3676 - val_loss: 1.1890 - val_accuracy: 0.8400\n",
      "Epoch 3/30\n",
      "44/44 [==============================] - 0s 5ms/step - loss: 14.5719 - accuracy: 0.3950 - val_loss: 0.9869 - val_accuracy: 0.7800\n",
      "Epoch 4/30\n",
      "44/44 [==============================] - 0s 5ms/step - loss: 9.4892 - accuracy: 0.4292 - val_loss: 0.5139 - val_accuracy: 0.8700\n",
      "Epoch 5/30\n",
      "44/44 [==============================] - 0s 5ms/step - loss: 6.4033 - accuracy: 0.4498 - val_loss: 0.3243 - val_accuracy: 0.8900\n",
      "Epoch 6/30\n",
      "44/44 [==============================] - 0s 5ms/step - loss: 5.9513 - accuracy: 0.4247 - val_loss: 0.2647 - val_accuracy: 0.9200\n",
      "Epoch 7/30\n",
      "44/44 [==============================] - 0s 5ms/step - loss: 3.9940 - accuracy: 0.5297 - val_loss: 0.4262 - val_accuracy: 0.8800\n",
      "Epoch 8/30\n",
      "44/44 [==============================] - 0s 5ms/step - loss: 4.1125 - accuracy: 0.4954 - val_loss: 0.2407 - val_accuracy: 0.9400\n",
      "Epoch 9/30\n",
      "44/44 [==============================] - 0s 5ms/step - loss: 3.5360 - accuracy: 0.5091 - val_loss: 0.4415 - val_accuracy: 0.9000\n",
      "Epoch 10/30\n",
      "44/44 [==============================] - 0s 5ms/step - loss: 2.7875 - accuracy: 0.5411 - val_loss: 0.2003 - val_accuracy: 0.9300\n",
      "Epoch 11/30\n",
      "44/44 [==============================] - 0s 5ms/step - loss: 2.7369 - accuracy: 0.5297 - val_loss: 0.2771 - val_accuracy: 0.9300\n",
      "Epoch 12/30\n",
      "44/44 [==============================] - 0s 5ms/step - loss: 2.5424 - accuracy: 0.5365 - val_loss: 0.2835 - val_accuracy: 0.9100\n",
      "Epoch 13/30\n",
      "44/44 [==============================] - 0s 5ms/step - loss: 2.1448 - accuracy: 0.5479 - val_loss: 0.2646 - val_accuracy: 0.9300\n",
      "Epoch 14/30\n",
      "44/44 [==============================] - 0s 5ms/step - loss: 1.9151 - accuracy: 0.5799 - val_loss: 0.4081 - val_accuracy: 0.9100\n",
      "Epoch 15/30\n",
      "44/44 [==============================] - 0s 6ms/step - loss: 1.7091 - accuracy: 0.5571 - val_loss: 0.3240 - val_accuracy: 0.9400\n",
      "Epoch 16/30\n",
      "44/44 [==============================] - 0s 5ms/step - loss: 1.6420 - accuracy: 0.5982 - val_loss: 0.3338 - val_accuracy: 0.9500\n",
      "Epoch 17/30\n",
      "44/44 [==============================] - 0s 5ms/step - loss: 1.4927 - accuracy: 0.5776 - val_loss: 0.3679 - val_accuracy: 0.9200\n",
      "Epoch 18/30\n",
      "44/44 [==============================] - 0s 5ms/step - loss: 1.4896 - accuracy: 0.5890 - val_loss: 0.4593 - val_accuracy: 0.9000\n",
      "Epoch 19/30\n",
      "44/44 [==============================] - 0s 5ms/step - loss: 1.3953 - accuracy: 0.6050 - val_loss: 0.3352 - val_accuracy: 0.9600\n",
      "Epoch 20/30\n",
      "44/44 [==============================] - 0s 6ms/step - loss: 1.5818 - accuracy: 0.5594 - val_loss: 0.3544 - val_accuracy: 0.9700\n",
      "Epoch 21/30\n",
      "44/44 [==============================] - 0s 5ms/step - loss: 1.3000 - accuracy: 0.5868 - val_loss: 0.4740 - val_accuracy: 0.9500\n",
      "Epoch 22/30\n",
      "44/44 [==============================] - 0s 5ms/step - loss: 1.2832 - accuracy: 0.6301 - val_loss: 0.4076 - val_accuracy: 0.9700\n",
      "Epoch 23/30\n",
      "44/44 [==============================] - 0s 5ms/step - loss: 1.3110 - accuracy: 0.6119 - val_loss: 0.4611 - val_accuracy: 0.9400\n",
      "Epoch 24/30\n",
      "44/44 [==============================] - 0s 5ms/step - loss: 1.2066 - accuracy: 0.6416 - val_loss: 0.4126 - val_accuracy: 0.9500\n",
      "Epoch 25/30\n",
      "44/44 [==============================] - 0s 5ms/step - loss: 1.0722 - accuracy: 0.6781 - val_loss: 0.4243 - val_accuracy: 0.9500\n",
      "Epoch 26/30\n",
      "44/44 [==============================] - 0s 5ms/step - loss: 1.0455 - accuracy: 0.6826 - val_loss: 0.4453 - val_accuracy: 0.9600\n",
      "Epoch 27/30\n",
      "44/44 [==============================] - 0s 5ms/step - loss: 1.0747 - accuracy: 0.6530 - val_loss: 0.4284 - val_accuracy: 0.9100\n",
      "Epoch 28/30\n",
      "44/44 [==============================] - 0s 6ms/step - loss: 1.0129 - accuracy: 0.6689 - val_loss: 0.3414 - val_accuracy: 0.9800\n",
      "Epoch 29/30\n",
      "44/44 [==============================] - 0s 6ms/step - loss: 0.9538 - accuracy: 0.6895 - val_loss: 0.4208 - val_accuracy: 0.9300\n",
      "Epoch 30/30\n",
      "44/44 [==============================] - 0s 5ms/step - loss: 0.9721 - accuracy: 0.6712 - val_loss: 0.3883 - val_accuracy: 0.9400\n"
     ]
    },
    {
     "data": {
      "text/plain": [
       "<keras.callbacks.History at 0x7fd5f8b734f0>"
      ]
     },
     "execution_count": 4,
     "metadata": {},
     "output_type": "execute_result"
    }
   ],
   "source": [
    "# NetConfig(conv_layers=2, conv_per_layer=4, conv_kernel_shape=(3, 3), dropout1=0.7, dropout2=0.7, dense_size=256)\n",
    "tf.debugging.set_log_device_placement(True)\n",
    "model = tf.keras.models.Sequential([\n",
    "    tf.keras.layers.Conv2D(4, (3, 3), padding='same', activation='relu'),\n",
    "    tf.keras.layers.Conv2D(4, (3, 3), padding='same', activation='relu'),\n",
    "    tf.keras.layers.MaxPool2D(strides=(2,2)),\n",
    "    tf.keras.layers.Dropout(0.7),\n",
    "    tf.keras.layers.Flatten(),\n",
    "    tf.keras.layers.Dense(256, activation='relu'),\n",
    "    tf.keras.layers.Dropout(0.7),\n",
    "    tf.keras.layers.Dense(8, activation='softmax')\n",
    "])\n",
    "\n",
    "model.compile(\n",
    "  optimizer='adam',\n",
    "  loss=tf.losses.SparseCategoricalCrossentropy(from_logits=True),\n",
    "  metrics=['accuracy'])\n",
    "\n",
    "model.fit(\n",
    "    train_ds,\n",
    "    epochs=30,\n",
    "    validation_data=val_ds,\n",
    ")"
   ]
  },
  {
   "cell_type": "code",
   "execution_count": 5,
   "metadata": {},
   "outputs": [
    {
     "name": "stdout",
     "output_type": "stream",
     "text": [
      "tarantallegra\n",
      "(29, 40)\n"
     ]
    },
    {
     "name": "stderr",
     "output_type": "stream",
     "text": [
      "2023-06-04 17:51:31.206711: I tensorflow/core/common_runtime/executor.cc:1197] [/device:CPU:0] (DEBUG INFO) Executor start aborting (this does not indicate an error and you can ignore this message): INVALID_ARGUMENT: You must feed a value for placeholder tensor 'Placeholder/_0' with dtype float and shape [638,29,40,1]\n",
      "\t [[{{node Placeholder/_0}}]]\n",
      "2023-06-04 17:51:31.207060: I tensorflow/core/common_runtime/executor.cc:1197] [/device:CPU:0] (DEBUG INFO) Executor start aborting (this does not indicate an error and you can ignore this message): INVALID_ARGUMENT: You must feed a value for placeholder tensor 'Placeholder/_0' with dtype float and shape [638,29,40,1]\n",
      "\t [[{{node Placeholder/_0}}]]\n"
     ]
    },
    {
     "data": {
      "image/png": "[encoded data removed]",
      "text/plain": [
       "<PIL.Image.Image image mode=RGB size=40x29>"
      ]
     },
     "metadata": {},
     "output_type": "display_data"
    },
    {
     "name": "stdout",
     "output_type": "stream",
     "text": [
      "(1, 29, 40)\n",
      "1/1 [==============================] - 0s 147ms/step\n",
      "['0.0402', '0.0033', '0.0019', '0.0333', '0.0038', '0.8911', '0.0203', '0.0061']\n",
      "0.891089\n",
      "tarantallegra\n"
     ]
    }
   ],
   "source": [
    "b = next(iter(test_ds))\n",
    "img_array = b[0][0]\n",
    "print(reverse_label_map[b[1][0].numpy()])\n",
    "array_shaped = img_array.numpy().reshape(29,40)\n",
    "print(array_shaped.shape)\n",
    "display(Image.fromarray(array_shaped*255).convert(\"RGB\"))\n",
    "print(np.expand_dims(np.squeeze(img_array), axis=0).shape)\n",
    "r = model.predict(np.expand_dims(np.squeeze(img_array), axis=0))\n",
    "print([f\"{i:.4f}\" for i in r[0]])\n",
    "print(np.max(r))\n",
    "raw_pred = tf.argmax(r, 1).numpy()[0]\n",
    "print(reverse_label_map[raw_pred])"
   ]
  },
  {
   "cell_type": "code",
   "execution_count": 6,
   "metadata": {},
   "outputs": [
    {
     "name": "stdout",
     "output_type": "stream",
     "text": [
      "WARNING:tensorflow:Layers in a Sequential model should only have a single input tensor. Received: inputs=(<tf.Tensor 'IteratorGetNext:0' shape=(None, 29, 40, 1) dtype=float32>, <tf.Tensor 'IteratorGetNext:1' shape=(None,) dtype=int64>). Consider rewriting this model with the Functional API.\n",
      "1/1 [==============================] - 0s 52ms/step\n",
      "1/1 [==============================] - 0s 15ms/step\n",
      "1/1 [==============================] - 0s 16ms/step\n",
      "1/1 [==============================] - 0s 17ms/step\n",
      "1/1 [==============================] - 0s 15ms/step\n",
      "1/1 [==============================] - 0s 16ms/step\n",
      "1/1 [==============================] - 0s 15ms/step\n",
      "1/1 [==============================] - 0s 16ms/step\n",
      "1/1 [==============================] - 0s 16ms/step\n",
      "1/1 [==============================] - 0s 17ms/step\n"
     ]
    },
    {
     "data": {
      "text/plain": [
       "Text(0.5, 1.0, 'Confusion Matrix')"
      ]
     },
     "execution_count": 6,
     "metadata": {},
     "output_type": "execute_result"
    },
    {
     "data": {
      "image/png": "[encoded data removed]",
      "text/plain": [
       "<Figure size 750x750 with 1 Axes>"
      ]
     },
     "metadata": {},
     "output_type": "display_data"
    }
   ],
   "source": [
    "real_classes = []\n",
    "pred_classes = []\n",
    "\n",
    "for batch in test_ds:\n",
    "    preds = model.predict(batch)\n",
    "    pred_classes.extend(tf.argmax(preds, 1).numpy())\n",
    "    real_classes.extend(batch[1].numpy())\n",
    "\n",
    "conf_matrix = tf.math.confusion_matrix(real_classes, pred_classes)\n",
    "\n",
    "fig, ax = plt.subplots(figsize=(7.5, 7.5))\n",
    "ax.matshow(conf_matrix, cmap=plt.cm.gray, alpha=0.3)\n",
    "for i in range(conf_matrix.shape[0]):\n",
    "    for j in range(conf_matrix.shape[1]):\n",
    "        ax.text(x=j, y=i,s=conf_matrix[i, j].numpy(), va='center', ha='center', size='xx-large')\n",
    " \n",
    "plt.xlabel('Predictions', fontsize=18)\n",
    "plt.ylabel('Actuals', fontsize=18)\n",
    "plt.title('Confusion Matrix', fontsize=18)"
   ]
  },
  {
   "cell_type": "code",
   "execution_count": 8,
   "metadata": {},
   "outputs": [
    {
     "name": "stdout",
     "output_type": "stream",
     "text": [
      "INFO:tensorflow:Unsupported signature for serialization: ((TensorSpec(shape=(3, 3, 1, 4), dtype=tf.float32, name='gradient'), <tensorflow.python.framework.func_graph.UnknownArgument object at 0x7fd5bb9f03d0>, 140556832173040), {}).\n"
     ]
    },
    {
     "name": "stderr",
     "output_type": "stream",
     "text": [
      "2023-06-04 17:52:30.267503: I tensorflow/core/common_runtime/executor.cc:1197] [/device:CPU:0] (DEBUG INFO) Executor start aborting (this does not indicate an error and you can ignore this message): INVALID_ARGUMENT: You must feed a value for placeholder tensor 'inputs' with dtype float and shape [?,14,20,4]\n",
      "\t [[{{node inputs}}]]\n",
      "2023-06-04 17:52:30.283296: I tensorflow/core/common_runtime/executor.cc:1197] [/device:CPU:0] (DEBUG INFO) Executor start aborting (this does not indicate an error and you can ignore this message): INVALID_ARGUMENT: You must feed a value for placeholder tensor 'inputs' with dtype float and shape [?,256]\n",
      "\t [[{{node inputs}}]]\n",
      "INFO:tensorflow:Unsupported signature for serialization: ((TensorSpec(shape=(3, 3, 1, 4), dtype=tf.float32, name='gradient'), <tensorflow.python.framework.func_graph.UnknownArgument object at 0x7fd5bb9f03d0>, 140556832173040), {}).\n"
     ]
    },
    {
     "name": "stdout",
     "output_type": "stream",
     "text": [
      "INFO:tensorflow:Unsupported signature for serialization: ((TensorSpec(shape=(4,), dtype=tf.float32, name='gradient'), <tensorflow.python.framework.func_graph.UnknownArgument object at 0x7fd5bb9f2140>, 140556977981296), {}).\n"
     ]
    },
    {
     "name": "stderr",
     "output_type": "stream",
     "text": [
      "INFO:tensorflow:Unsupported signature for serialization: ((TensorSpec(shape=(4,), dtype=tf.float32, name='gradient'), <tensorflow.python.framework.func_graph.UnknownArgument object at 0x7fd5bb9f2140>, 140556977981296), {}).\n"
     ]
    },
    {
     "name": "stdout",
     "output_type": "stream",
     "text": [
      "INFO:tensorflow:Unsupported signature for serialization: ((TensorSpec(shape=(3, 3, 4, 4), dtype=tf.float32, name='gradient'), <tensorflow.python.framework.func_graph.UnknownArgument object at 0x7fd5b813c430>, 140556832310176), {}).\n"
     ]
    },
    {
     "name": "stderr",
     "output_type": "stream",
     "text": [
      "INFO:tensorflow:Unsupported signature for serialization: ((TensorSpec(shape=(3, 3, 4, 4), dtype=tf.float32, name='gradient'), <tensorflow.python.framework.func_graph.UnknownArgument object at 0x7fd5b813c430>, 140556832310176), {}).\n"
     ]
    },
    {
     "name": "stdout",
     "output_type": "stream",
     "text": [
      "INFO:tensorflow:Unsupported signature for serialization: ((TensorSpec(shape=(4,), dtype=tf.float32, name='gradient'), <tensorflow.python.framework.func_graph.UnknownArgument object at 0x7fd5b813c850>, 140556832309856), {}).\n"
     ]
    },
    {
     "name": "stderr",
     "output_type": "stream",
     "text": [
      "INFO:tensorflow:Unsupported signature for serialization: ((TensorSpec(shape=(4,), dtype=tf.float32, name='gradient'), <tensorflow.python.framework.func_graph.UnknownArgument object at 0x7fd5b813c850>, 140556832309856), {}).\n"
     ]
    },
    {
     "name": "stdout",
     "output_type": "stream",
     "text": [
      "INFO:tensorflow:Unsupported signature for serialization: ((TensorSpec(shape=(1120, 256), dtype=tf.float32, name='gradient'), <tensorflow.python.framework.func_graph.UnknownArgument object at 0x7fd5f0097c10>, 140556832318176), {}).\n"
     ]
    },
    {
     "name": "stderr",
     "output_type": "stream",
     "text": [
      "INFO:tensorflow:Unsupported signature for serialization: ((TensorSpec(shape=(1120, 256), dtype=tf.float32, name='gradient'), <tensorflow.python.framework.func_graph.UnknownArgument object at 0x7fd5f0097c10>, 140556832318176), {}).\n"
     ]
    },
    {
     "name": "stdout",
     "output_type": "stream",
     "text": [
      "INFO:tensorflow:Unsupported signature for serialization: ((TensorSpec(shape=(256,), dtype=tf.float32, name='gradient'), <tensorflow.python.framework.func_graph.UnknownArgument object at 0x7fd5b817d780>, 140556878815536), {}).\n"
     ]
    },
    {
     "name": "stderr",
     "output_type": "stream",
     "text": [
      "INFO:tensorflow:Unsupported signature for serialization: ((TensorSpec(shape=(256,), dtype=tf.float32, name='gradient'), <tensorflow.python.framework.func_graph.UnknownArgument object at 0x7fd5b817d780>, 140556878815536), {}).\n"
     ]
    },
    {
     "name": "stdout",
     "output_type": "stream",
     "text": [
      "INFO:tensorflow:Unsupported signature for serialization: ((TensorSpec(shape=(256, 8), dtype=tf.float32, name='gradient'), <tensorflow.python.framework.func_graph.UnknownArgument object at 0x7fd5b817f550>, 140556832348784), {}).\n"
     ]
    },
    {
     "name": "stderr",
     "output_type": "stream",
     "text": [
      "INFO:tensorflow:Unsupported signature for serialization: ((TensorSpec(shape=(256, 8), dtype=tf.float32, name='gradient'), <tensorflow.python.framework.func_graph.UnknownArgument object at 0x7fd5b817f550>, 140556832348784), {}).\n"
     ]
    },
    {
     "name": "stdout",
     "output_type": "stream",
     "text": [
      "INFO:tensorflow:Unsupported signature for serialization: ((TensorSpec(shape=(8,), dtype=tf.float32, name='gradient'), <tensorflow.python.framework.func_graph.UnknownArgument object at 0x7fd5b81a53c0>, 140557116591440), {}).\n"
     ]
    },
    {
     "name": "stderr",
     "output_type": "stream",
     "text": [
      "INFO:tensorflow:Unsupported signature for serialization: ((TensorSpec(shape=(8,), dtype=tf.float32, name='gradient'), <tensorflow.python.framework.func_graph.UnknownArgument object at 0x7fd5b81a53c0>, 140557116591440), {}).\n"
     ]
    },
    {
     "name": "stdout",
     "output_type": "stream",
     "text": [
      "INFO:tensorflow:Unsupported signature for serialization: ((TensorSpec(shape=(3, 3, 1, 4), dtype=tf.float32, name='gradient'), <tensorflow.python.framework.func_graph.UnknownArgument object at 0x7fd5bb9f03d0>, 140556832173040), {}).\n"
     ]
    },
    {
     "name": "stderr",
     "output_type": "stream",
     "text": [
      "2023-06-04 17:52:30.482427: I tensorflow/core/common_runtime/executor.cc:1197] [/device:CPU:0] (DEBUG INFO) Executor start aborting (this does not indicate an error and you can ignore this message): INVALID_ARGUMENT: You must feed a value for placeholder tensor 'inputs' with dtype float and shape [?,14,20,4]\n",
      "\t [[{{node inputs}}]]\n",
      "2023-06-04 17:52:30.520932: I tensorflow/core/common_runtime/executor.cc:1197] [/device:CPU:0] (DEBUG INFO) Executor start aborting (this does not indicate an error and you can ignore this message): INVALID_ARGUMENT: You must feed a value for placeholder tensor 'inputs' with dtype float and shape [?,256]\n",
      "\t [[{{node inputs}}]]\n",
      "INFO:tensorflow:Unsupported signature for serialization: ((TensorSpec(shape=(3, 3, 1, 4), dtype=tf.float32, name='gradient'), <tensorflow.python.framework.func_graph.UnknownArgument object at 0x7fd5bb9f03d0>, 140556832173040), {}).\n"
     ]
    },
    {
     "name": "stdout",
     "output_type": "stream",
     "text": [
      "INFO:tensorflow:Unsupported signature for serialization: ((TensorSpec(shape=(4,), dtype=tf.float32, name='gradient'), <tensorflow.python.framework.func_graph.UnknownArgument object at 0x7fd5bb9f2140>, 140556977981296), {}).\n"
     ]
    },
    {
     "name": "stderr",
     "output_type": "stream",
     "text": [
      "INFO:tensorflow:Unsupported signature for serialization: ((TensorSpec(shape=(4,), dtype=tf.float32, name='gradient'), <tensorflow.python.framework.func_graph.UnknownArgument object at 0x7fd5bb9f2140>, 140556977981296), {}).\n"
     ]
    },
    {
     "name": "stdout",
     "output_type": "stream",
     "text": [
      "INFO:tensorflow:Unsupported signature for serialization: ((TensorSpec(shape=(3, 3, 4, 4), dtype=tf.float32, name='gradient'), <tensorflow.python.framework.func_graph.UnknownArgument object at 0x7fd5b813c430>, 140556832310176), {}).\n"
     ]
    },
    {
     "name": "stderr",
     "output_type": "stream",
     "text": [
      "INFO:tensorflow:Unsupported signature for serialization: ((TensorSpec(shape=(3, 3, 4, 4), dtype=tf.float32, name='gradient'), <tensorflow.python.framework.func_graph.UnknownArgument object at 0x7fd5b813c430>, 140556832310176), {}).\n"
     ]
    },
    {
     "name": "stdout",
     "output_type": "stream",
     "text": [
      "INFO:tensorflow:Unsupported signature for serialization: ((TensorSpec(shape=(4,), dtype=tf.float32, name='gradient'), <tensorflow.python.framework.func_graph.UnknownArgument object at 0x7fd5b813c850>, 140556832309856), {}).\n"
     ]
    },
    {
     "name": "stderr",
     "output_type": "stream",
     "text": [
      "INFO:tensorflow:Unsupported signature for serialization: ((TensorSpec(shape=(4,), dtype=tf.float32, name='gradient'), <tensorflow.python.framework.func_graph.UnknownArgument object at 0x7fd5b813c850>, 140556832309856), {}).\n"
     ]
    },
    {
     "name": "stdout",
     "output_type": "stream",
     "text": [
      "INFO:tensorflow:Unsupported signature for serialization: ((TensorSpec(shape=(1120, 256), dtype=tf.float32, name='gradient'), <tensorflow.python.framework.func_graph.UnknownArgument object at 0x7fd5f0097c10>, 140556832318176), {}).\n"
     ]
    },
    {
     "name": "stderr",
     "output_type": "stream",
     "text": [
      "INFO:tensorflow:Unsupported signature for serialization: ((TensorSpec(shape=(1120, 256), dtype=tf.float32, name='gradient'), <tensorflow.python.framework.func_graph.UnknownArgument object at 0x7fd5f0097c10>, 140556832318176), {}).\n"
     ]
    },
    {
     "name": "stdout",
     "output_type": "stream",
     "text": [
      "INFO:tensorflow:Unsupported signature for serialization: ((TensorSpec(shape=(256,), dtype=tf.float32, name='gradient'), <tensorflow.python.framework.func_graph.UnknownArgument object at 0x7fd5b817d780>, 140556878815536), {}).\n"
     ]
    },
    {
     "name": "stderr",
     "output_type": "stream",
     "text": [
      "INFO:tensorflow:Unsupported signature for serialization: ((TensorSpec(shape=(256,), dtype=tf.float32, name='gradient'), <tensorflow.python.framework.func_graph.UnknownArgument object at 0x7fd5b817d780>, 140556878815536), {}).\n"
     ]
    },
    {
     "name": "stdout",
     "output_type": "stream",
     "text": [
      "INFO:tensorflow:Unsupported signature for serialization: ((TensorSpec(shape=(256, 8), dtype=tf.float32, name='gradient'), <tensorflow.python.framework.func_graph.UnknownArgument object at 0x7fd5b817f550>, 140556832348784), {}).\n"
     ]
    },
    {
     "name": "stderr",
     "output_type": "stream",
     "text": [
      "INFO:tensorflow:Unsupported signature for serialization: ((TensorSpec(shape=(256, 8), dtype=tf.float32, name='gradient'), <tensorflow.python.framework.func_graph.UnknownArgument object at 0x7fd5b817f550>, 140556832348784), {}).\n"
     ]
    },
    {
     "name": "stdout",
     "output_type": "stream",
     "text": [
      "INFO:tensorflow:Unsupported signature for serialization: ((TensorSpec(shape=(8,), dtype=tf.float32, name='gradient'), <tensorflow.python.framework.func_graph.UnknownArgument object at 0x7fd5b81a53c0>, 140557116591440), {}).\n"
     ]
    },
    {
     "name": "stderr",
     "output_type": "stream",
     "text": [
      "INFO:tensorflow:Unsupported signature for serialization: ((TensorSpec(shape=(8,), dtype=tf.float32, name='gradient'), <tensorflow.python.framework.func_graph.UnknownArgument object at 0x7fd5b81a53c0>, 140557116591440), {}).\n",
      "WARNING:absl:Found untraced functions such as _jit_compiled_convolution_op, _jit_compiled_convolution_op, _update_step_xla while saving (showing 3 of 3). These functions will not be directly callable after loading.\n"
     ]
    },
    {
     "name": "stdout",
     "output_type": "stream",
     "text": [
      "INFO:tensorflow:Assets written to: output/assets\n"
     ]
    },
    {
     "name": "stderr",
     "output_type": "stream",
     "text": [
      "INFO:tensorflow:Assets written to: output/assets\n"
     ]
    }
   ],
   "source": [
    "model.save(\"output\")"
   ]
  }
 ],
 "metadata": {
  "kernelspec": {
   "display_name": "Python 3",
   "language": "python",
   "name": "python3"
  },
  "language_info": {
   "codemirror_mode": {
    "name": "ipython",
    "version": 3
   },
   "file_extension": ".py",
   "mimetype": "text/x-python",
   "name": "python",
   "nbconvert_exporter": "python",
   "pygments_lexer": "ipython3",
   "version": "3.10.6"
  },
  "orig_nbformat": 4,
  "vscode": {
   "interpreter": {
    "hash": "e7370f93d1d0cde622a1f8e1c04877d8463912d04d973331ad4851f04de6915a"
   }
  }
 },
 "nbformat": 4,
 "nbformat_minor": 2
}
