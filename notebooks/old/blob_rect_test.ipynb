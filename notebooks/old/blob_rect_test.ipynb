{
 "cells": [
  {
   "cell_type": "code",
   "execution_count": 1,
   "metadata": {},
   "outputs": [],
   "source": [
    "from PIL import Image\n",
    "import seaborn as sns\n",
    "import numpy as np\n",
    "import matplotlib.patches as patches\n",
    "import pandas as pd\n",
    "from typing import NamedTuple"
   ]
  },
  {
   "cell_type": "code",
   "execution_count": 2,
   "metadata": {},
   "outputs": [],
   "source": [
    "binary_raw = Image.open(\"blob_rect_binary_input.png\")"
   ]
  },
  {
   "cell_type": "code",
   "execution_count": 3,
   "metadata": {},
   "outputs": [
    {
     "data": {
      "image/png": "[encoded data removed]",
      "text/plain": [
       "<PIL.PngImagePlugin.PngImageFile image mode=L size=240x240>"
      ]
     },
     "execution_count": 3,
     "metadata": {},
     "output_type": "execute_result"
    }
   ],
   "source": [
    "binary_raw"
   ]
  },
  {
   "cell_type": "code",
   "execution_count": 4,
   "metadata": {},
   "outputs": [],
   "source": [
    "binary = np.array(binary_raw)"
   ]
  },
  {
   "cell_type": "code",
   "execution_count": 5,
   "metadata": {},
   "outputs": [],
   "source": [
    "class Overlap(NamedTuple):\n",
    "    overlapping: bool\n",
    "    tlx: int\n",
    "    tly: int\n",
    "    brx: int\n",
    "    bry: int\n",
    "\n",
    "def rect_overlap(r1, r2) -> Overlap:\n",
    "    merged_tlx = max(r1[0], r2[0])\n",
    "    merged_tly = max(r1[1], r2[1])\n",
    "    merged_brx = min(r1[2], r2[2])\n",
    "    merged_bry = min(r1[3], r2[3])\n",
    "\n",
    "    if merged_tlx > merged_brx or merged_tly > merged_bry:\n",
    "        overlap = False\n",
    "    else:\n",
    "        overlap = True\n",
    "    \n",
    "    return Overlap(\n",
    "        overlapping=overlap,\n",
    "        tlx=merged_tlx,\n",
    "        tly=merged_tly,\n",
    "        brx=merged_brx,\n",
    "        bry=merged_bry\n",
    "    )\n"
   ]
  },
  {
   "cell_type": "code",
   "execution_count": 6,
   "metadata": {},
   "outputs": [],
   "source": [
    "# Take an array of sorted numbers (or probably any comparable values)\n",
    "# and return a new array with the indexes which represent the\n",
    "# the starts of continuous values in the input array.  The last element\n",
    "# in the returned array will always be None for use in slicing where\n",
    "# it will slice all the way to the end of the array.\n",
    "# ex:\n",
    "# a = [1,2,3,9,10,10,10,11,17,18,19]\n",
    "# group_starts(a) -> [0, 2, 3, 7, 8, None]\n",
    "def group_starts(a):\n",
    "    if len(a) == 1:\n",
    "        return np.array([0,1])\n",
    "    shifted = np.array(list(zip(a[-len(a):], a[-len(a)+1:])))\n",
    "    res = np.array([i for i in map(lambda x: x[1] in (x[0], x[0]+1), shifted)])\n",
    "    # rest is based on https://gist.github.com/alimanfoo/c5977e87111abe8127453b21204c1065\n",
    "    cuts = np.empty(len(res), dtype=bool)\n",
    "    cuts[0] = True\n",
    "    np.not_equal(res[:-1], res[1:], out=cuts[1:])\n",
    "    starts = np.nonzero(cuts)[0]\n",
    "    return np.append(starts, None)"
   ]
  },
  {
   "cell_type": "code",
   "execution_count": 7,
   "metadata": {},
   "outputs": [],
   "source": [
    "# Get all zero points in the image (working with a negative image)\n",
    "# then sort the points on the _X_ coordinate and then split into separate\n",
    "# aligned lists of the X and Y coords.\n",
    "ret = np.argwhere(binary == 0)\n",
    "ret = np.array(sorted(list(map(tuple, ret)), key=lambda x:x[0]))\n",
    "y = np.squeeze(np.hsplit(ret, 2)[0])\n",
    "x = np.squeeze(np.hsplit(ret, 2)[1])"
   ]
  },
  {
   "cell_type": "code",
   "execution_count": 8,
   "metadata": {},
   "outputs": [],
   "source": [
    "# Y axis rectangles\n",
    "# For each contiguous set of Y coords, iterate over each\n",
    "# contiguous set of X cords.  The min/max of the Xs and Ys form\n",
    "# the rectangles.\n",
    "box_points = []\n",
    "y_starts = group_starts(y)\n",
    "ys_prev = 0\n",
    "for ys in y_starts:\n",
    "    g = sorted(x[ys_prev:ys])\n",
    "    if not len(g):\n",
    "        continue\n",
    "    miny = min(y[ys_prev:ys])\n",
    "    maxy = max(y[ys_prev:ys])\n",
    "    if ys is not None:\n",
    "        ys_prev = ys+1\n",
    "    x_starts = group_starts(g)\n",
    "    xs_prev = 0\n",
    "    for xs in x_starts:\n",
    "        gsub = g[xs_prev:xs]\n",
    "        if not len(gsub):\n",
    "            continue\n",
    "        minx = min(gsub)\n",
    "        maxx = max(gsub)\n",
    "        box_points.append((minx, miny, maxx, maxy))\n",
    "        if xs is not None:\n",
    "            xs_prev = xs+1"
   ]
  },
  {
   "cell_type": "code",
   "execution_count": 9,
   "metadata": {},
   "outputs": [
    {
     "data": {
      "text/html": [
       "<div>\n",
       "<style scoped>\n",
       "    .dataframe tbody tr th:only-of-type {\n",
       "        vertical-align: middle;\n",
       "    }\n",
       "\n",
       "    .dataframe tbody tr th {\n",
       "        vertical-align: top;\n",
       "    }\n",
       "\n",
       "    .dataframe thead th {\n",
       "        text-align: right;\n",
       "    }\n",
       "</style>\n",
       "<table border=\"1\" class=\"dataframe\">\n",
       "  <thead>\n",
       "    <tr style=\"text-align: right;\">\n",
       "      <th></th>\n",
       "      <th>minx</th>\n",
       "      <th>miny</th>\n",
       "      <th>maxx</th>\n",
       "      <th>maxy</th>\n",
       "    </tr>\n",
       "  </thead>\n",
       "  <tbody>\n",
       "    <tr>\n",
       "      <th>0</th>\n",
       "      <td>137</td>\n",
       "      <td>22</td>\n",
       "      <td>141</td>\n",
       "      <td>27</td>\n",
       "    </tr>\n",
       "    <tr>\n",
       "      <th>1</th>\n",
       "      <td>165</td>\n",
       "      <td>46</td>\n",
       "      <td>165</td>\n",
       "      <td>46</td>\n",
       "    </tr>\n",
       "    <tr>\n",
       "      <th>2</th>\n",
       "      <td>116</td>\n",
       "      <td>114</td>\n",
       "      <td>118</td>\n",
       "      <td>117</td>\n",
       "    </tr>\n",
       "    <tr>\n",
       "      <th>3</th>\n",
       "      <td>120</td>\n",
       "      <td>126</td>\n",
       "      <td>143</td>\n",
       "      <td>141</td>\n",
       "    </tr>\n",
       "  </tbody>\n",
       "</table>\n",
       "</div>"
      ],
      "text/plain": [
       "   minx  miny  maxx  maxy\n",
       "0   137    22   141    27\n",
       "1   165    46   165    46\n",
       "2   116   114   118   117\n",
       "3   120   126   143   141"
      ]
     },
     "execution_count": 9,
     "metadata": {},
     "output_type": "execute_result"
    }
   ],
   "source": [
    "ybox_df = pd.DataFrame(box_points, columns=(\"minx\", \"miny\", \"maxx\", \"maxy\"))\n",
    "ybox_df"
   ]
  },
  {
   "cell_type": "code",
   "execution_count": 10,
   "metadata": {},
   "outputs": [],
   "source": [
    "# Get all zero points in the image (working with a negative image)\n",
    "# then sort the points on the _Y_ coordinate and then split into separate\n",
    "# aligned lists of the X and Y coords.\n",
    "ret = np.argwhere(binary == 0)\n",
    "ret = np.array(sorted(list(map(tuple, ret)), key=lambda x:x[1]))\n",
    "y = np.squeeze(np.hsplit(ret, 2)[0])\n",
    "x = np.squeeze(np.hsplit(ret, 2)[1])"
   ]
  },
  {
   "cell_type": "code",
   "execution_count": 11,
   "metadata": {},
   "outputs": [],
   "source": [
    "# X axis rectangles\n",
    "# For each contiguous set of X coords, iterate over each\n",
    "# contiguous set of Y cords.  The min/max of the Xs and Ys form\n",
    "# the rectangles.\n",
    "box_points = []\n",
    "x_starts = group_starts(x)\n",
    "xs_prev = 0\n",
    "for xs in x_starts:\n",
    "    g = sorted(y[xs_prev:xs])\n",
    "    if not len(g):\n",
    "        continue\n",
    "    minx = min(x[xs_prev:xs])\n",
    "    maxx = max(x[xs_prev:xs])\n",
    "    if xs is not None:\n",
    "        xs_prev = xs+1\n",
    "    y_starts = group_starts(g)\n",
    "    ys_prev = 0\n",
    "    for ys in y_starts:\n",
    "        gsub = g[ys_prev:ys]\n",
    "        if not len(gsub):\n",
    "            continue\n",
    "        miny = min(gsub)\n",
    "        maxy = max(gsub)\n",
    "        box_points.append((minx, miny, maxx, maxy))\n",
    "        if ys is not None:\n",
    "            ys_prev = ys+1"
   ]
  },
  {
   "cell_type": "code",
   "execution_count": 12,
   "metadata": {},
   "outputs": [
    {
     "data": {
      "text/html": [
       "<div>\n",
       "<style scoped>\n",
       "    .dataframe tbody tr th:only-of-type {\n",
       "        vertical-align: middle;\n",
       "    }\n",
       "\n",
       "    .dataframe tbody tr th {\n",
       "        vertical-align: top;\n",
       "    }\n",
       "\n",
       "    .dataframe thead th {\n",
       "        text-align: right;\n",
       "    }\n",
       "</style>\n",
       "<table border=\"1\" class=\"dataframe\">\n",
       "  <thead>\n",
       "    <tr style=\"text-align: right;\">\n",
       "      <th></th>\n",
       "      <th>minx</th>\n",
       "      <th>miny</th>\n",
       "      <th>maxx</th>\n",
       "      <th>maxy</th>\n",
       "    </tr>\n",
       "  </thead>\n",
       "  <tbody>\n",
       "    <tr>\n",
       "      <th>0</th>\n",
       "      <td>116</td>\n",
       "      <td>114</td>\n",
       "      <td>118</td>\n",
       "      <td>117</td>\n",
       "    </tr>\n",
       "    <tr>\n",
       "      <th>1</th>\n",
       "      <td>120</td>\n",
       "      <td>22</td>\n",
       "      <td>143</td>\n",
       "      <td>27</td>\n",
       "    </tr>\n",
       "    <tr>\n",
       "      <th>2</th>\n",
       "      <td>120</td>\n",
       "      <td>126</td>\n",
       "      <td>143</td>\n",
       "      <td>141</td>\n",
       "    </tr>\n",
       "    <tr>\n",
       "      <th>3</th>\n",
       "      <td>165</td>\n",
       "      <td>46</td>\n",
       "      <td>165</td>\n",
       "      <td>46</td>\n",
       "    </tr>\n",
       "  </tbody>\n",
       "</table>\n",
       "</div>"
      ],
      "text/plain": [
       "   minx  miny  maxx  maxy\n",
       "0   116   114   118   117\n",
       "1   120    22   143    27\n",
       "2   120   126   143   141\n",
       "3   165    46   165    46"
      ]
     },
     "execution_count": 12,
     "metadata": {},
     "output_type": "execute_result"
    }
   ],
   "source": [
    "xbox_df = pd.DataFrame(box_points, columns=(\"minx\", \"miny\", \"maxx\", \"maxy\"))\n",
    "xbox_df"
   ]
  },
  {
   "cell_type": "code",
   "execution_count": 13,
   "metadata": {},
   "outputs": [
    {
     "name": "stdout",
     "output_type": "stream",
     "text": [
      "Overlap(overlapping=True, tlx=116, tly=114, brx=118, bry=117)\n",
      "Overlap(overlapping=True, tlx=137, tly=22, brx=141, bry=27)\n",
      "Overlap(overlapping=True, tlx=120, tly=126, brx=143, bry=141)\n",
      "Overlap(overlapping=True, tlx=165, tly=46, brx=165, bry=46)\n"
     ]
    }
   ],
   "source": [
    "# Cross all the rectangles and the ones that overlap, save\n",
    "# the overlapping regions.  These are our final rectangles\n",
    "# and the centers of these are the detected points.\n",
    "overlaps = []\n",
    "for (i,r1) in xbox_df.iterrows():\n",
    "    for (i,r2) in ybox_df.iterrows():\n",
    "        ov = rect_overlap(\n",
    "            (r1['minx'], r1['miny'], r1['maxx'], r1['maxy']),\n",
    "            (r2['minx'], r2['miny'], r2['maxx'], r2['maxy'])\n",
    "        )\n",
    "        if ov.overlapping:\n",
    "            print(ov)\n",
    "            overlaps.append(ov)"
   ]
  },
  {
   "cell_type": "code",
   "execution_count": 14,
   "metadata": {},
   "outputs": [],
   "source": [
    "splits = np.squeeze(np.hsplit(np.array(ret), 2))\n",
    "points = pd.DataFrame({'y': splits[0], 'x': splits[1]})"
   ]
  },
  {
   "attachments": {},
   "cell_type": "markdown",
   "metadata": {},
   "source": [
    "## Only Y rectangles"
   ]
  },
  {
   "cell_type": "code",
   "execution_count": 15,
   "metadata": {},
   "outputs": [
    {
     "data": {
      "image/png": "[encoded data removed]",
      "text/plain": [
       "<Figure size 640x480 with 1 Axes>"
      ]
     },
     "metadata": {},
     "output_type": "display_data"
    }
   ],
   "source": [
    "ax = sns.scatterplot(points, y='y', x='x', s=5)\n",
    "ax.invert_yaxis()\n",
    "ax.set_xlim(1, 240)\n",
    "ax.set_ylim(240, 1)\n",
    "\n",
    "for (i,r) in ybox_df.iterrows():\n",
    "    if r['minx'] == r['maxx'] and r['miny'] == r['maxy']:\n",
    "        mypatch = patches.Circle((r['minx'], r['miny']), radius=1)\n",
    "        mypatch.set(color='green', fill=False)\n",
    "    else:\n",
    "        base_point = (r['minx'], r['miny'])\n",
    "        width = r['maxx'] - r['minx']\n",
    "        height = r['maxy'] - r['miny']\n",
    "        mypatch = patches.Rectangle(base_point, width, height)\n",
    "        mypatch.set(color='green', fill=False)\n",
    "    ax.add_patch(mypatch)"
   ]
  },
  {
   "attachments": {},
   "cell_type": "markdown",
   "metadata": {},
   "source": [
    "## Only X rectangles"
   ]
  },
  {
   "cell_type": "code",
   "execution_count": 16,
   "metadata": {},
   "outputs": [
    {
     "data": {
      "image/png": "[encoded data removed]",
      "text/plain": [
       "<Figure size 640x480 with 1 Axes>"
      ]
     },
     "metadata": {},
     "output_type": "display_data"
    }
   ],
   "source": [
    "ax = sns.scatterplot(points, y='y', x='x', s=5)\n",
    "ax.invert_yaxis()\n",
    "ax.set_xlim(1, 240)\n",
    "ax.set_ylim(240, 1)\n",
    "\n",
    "for (i,r) in xbox_df.iterrows():\n",
    "    if r['minx'] == r['maxx'] and r['miny'] == r['maxy']:\n",
    "        mypatch = patches.Circle((r['minx'], r['miny']), radius=1)\n",
    "        mypatch.set(color='red', fill=False)\n",
    "    else:\n",
    "        base_point = (r['minx'], r['miny'])\n",
    "        width = r['maxx'] - r['minx']\n",
    "        height = r['maxy'] - r['miny']\n",
    "        mypatch = patches.Rectangle(base_point, width, height)\n",
    "        mypatch.set(color='red', fill=False)\n",
    "    ax.add_patch(mypatch)"
   ]
  },
  {
   "attachments": {},
   "cell_type": "markdown",
   "metadata": {},
   "source": [
    "## Intersected rectangles"
   ]
  },
  {
   "cell_type": "code",
   "execution_count": 17,
   "metadata": {},
   "outputs": [
    {
     "data": {
      "image/png": "[encoded data removed]",
      "text/plain": [
       "<Figure size 640x480 with 1 Axes>"
      ]
     },
     "metadata": {},
     "output_type": "display_data"
    }
   ],
   "source": [
    "ax = sns.scatterplot(points, y='y', x='x', s=5)\n",
    "ax.invert_yaxis()\n",
    "ax.set_xlim(1, 240)\n",
    "ax.set_ylim(240, 1)\n",
    "\n",
    "for mr in overlaps:\n",
    "    if mr.tlx == mr.brx and mr.tly == mr.bry:\n",
    "        mypatch = patches.Circle((mr.tlx, mr.tly), radius=1)\n",
    "        mypatch.set(color='red', fill=False)\n",
    "    else:\n",
    "        base_point = (mr.tlx, mr.tly)\n",
    "        width = mr.brx - mr.tlx\n",
    "        height = mr.bry - mr.tly\n",
    "        mypatch = patches.Rectangle(base_point, width, height)\n",
    "        mypatch.set(color='orange', fill=False)\n",
    "    ax.add_patch(mypatch)"
   ]
  }
 ],
 "metadata": {
  "kernelspec": {
   "display_name": "Python 3",
   "language": "python",
   "name": "python3"
  },
  "language_info": {
   "codemirror_mode": {
    "name": "ipython",
    "version": 3
   },
   "file_extension": ".py",
   "mimetype": "text/x-python",
   "name": "python",
   "nbconvert_exporter": "python",
   "pygments_lexer": "ipython3",
   "version": "3.9.5"
  },
  "orig_nbformat": 4,
  "vscode": {
   "interpreter": {
    "hash": "e7370f93d1d0cde622a1f8e1c04877d8463912d04d973331ad4851f04de6915a"
   }
  }
 },
 "nbformat": 4,
 "nbformat_minor": 2
}
