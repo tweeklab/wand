{
 "cells": [
  {
   "cell_type": "code",
   "execution_count": 1,
   "metadata": {},
   "outputs": [],
   "source": [
    "import os\n",
    "import yaml\n",
    "import warnings\n",
    "from cachetools import cached\n",
    "import pickle\n",
    "\n",
    "import numpy as np\n",
    "\n",
    "np.set_printoptions(precision=4)\n",
    "warnings.filterwarnings('ignore')\n",
    "\n",
    "os.environ['TF_CPP_MIN_LOG_LEVEL'] = '2'\n",
    "\n",
    "from tqdm.notebook import tqdm\n",
    "from sklearn.metrics import f1_score\n",
    "\n",
    "from PIL import Image\n",
    "\n",
    "from itertools import product\n",
    "\n",
    "from netconfig import NetConfig"
   ]
  },
  {
   "cell_type": "code",
   "execution_count": 2,
   "metadata": {},
   "outputs": [
    {
     "name": "stdout",
     "output_type": "stream",
     "text": [
      "Tensorflow version: 2.12.0\n"
     ]
    }
   ],
   "source": [
    "LABELS_PATH=\"labels.yaml\"\n",
    "IMAGES_BASE=\"/workspaces/motion/images/esp32/good\"\n",
    "BATCH_SIZE=10\n",
    "\n",
    "import tensorflow as tf\n",
    "tf.debugging.set_log_device_placement(False)\n",
    "\n",
    "print(f\"Tensorflow version: {tf.__version__}\")\n",
    "\n",
    "def tf_init():\n",
    "  # Taken from tensorflow GPU docs\n",
    "  # https://www.tensorflow.org/guide/gpu\n",
    "  gpus = tf.config.list_physical_devices('GPU')\n",
    "  if gpus:\n",
    "    try:\n",
    "      # Currently, memory growth needs to be the same across GPUs\n",
    "      for gpu in gpus:\n",
    "        tf.config.experimental.set_memory_growth(gpu, True)\n",
    "        # tf.config.experimental.set_virtual_device_configuration(\n",
    "        #   gpu, [tf.config.LogicalDeviceConfiguration(memory_limit=1024)]\n",
    "        # )\n",
    "      logical_gpus = tf.config.list_logical_devices('GPU')\n",
    "      print(len(gpus), \"Physical GPUs,\", len(logical_gpus), \"Logical GPUs\")\n",
    "    except RuntimeError as e:\n",
    "      # Memory growth must be set before GPUs have been initialized\n",
    "      print(e)"
   ]
  },
  {
   "cell_type": "code",
   "execution_count": 3,
   "metadata": {},
   "outputs": [],
   "source": [
    "@cached(cache={})\n",
    "def load_train_data():\n",
    "    print(\"load train images\")\n",
    "    with open(LABELS_PATH) as f:\n",
    "        label_map = yaml.load(f, Loader=yaml.SafeLoader)[\"labels\"]\n",
    "    reverse_label_map = {v:k for k,v in label_map.items()}\n",
    "\n",
    "    examples = []\n",
    "    examples_labels = []\n",
    "    for dir,_,files in os.walk(IMAGES_BASE):\n",
    "        for file in files:\n",
    "            examples.append(np.asarray(Image.open(os.path.join(dir, file)).point(lambda x: 255 if x>0 else 0), dtype=np.float32).reshape(29, 40, 1))\n",
    "            examples_labels.append(label_map[os.path.basename(dir)])\n",
    "    examples_numpy = np.asarray(examples)\n",
    "    examples_labels_numpy = np.asanyarray(examples_labels)\n",
    "\n",
    "    ds = tf.data.Dataset.from_tensor_slices((examples_numpy, examples_labels_numpy))\n",
    "    ds = ds.shuffle(buffer_size=2000, reshuffle_each_iteration=False).batch(BATCH_SIZE)\n",
    "\n",
    "    val_ds = ds.take(10)\n",
    "    test_ds = ds.skip(10).take(10)\n",
    "    train_ds = ds.skip(20)\n",
    "\n",
    "    return (train_ds, val_ds, test_ds)"
   ]
  },
  {
   "cell_type": "code",
   "execution_count": 4,
   "metadata": {},
   "outputs": [],
   "source": [
    "@cached(cache={})\n",
    "def load_discard_images():\n",
    "    print(\"loading discard images\")\n",
    "    discard_files = []\n",
    "    garbage_image_arrays = []\n",
    "    DISCARD_IMAGES_DIR=\"images/esp32/live/discard\"\n",
    "    for dir,_,files in os.walk(DISCARD_IMAGES_DIR):\n",
    "        for file in files:\n",
    "            discard_files.append(os.path.join(dir, file))\n",
    "\n",
    "    for imgfile in discard_files:\n",
    "        i = Image.open(imgfile).point(lambda x: 255 if x>0 else 0)\n",
    "        garbage_img_array = np.asarray(i, dtype=np.uint8).reshape(29,40, 1)\n",
    "        garbage_image_arrays.append(garbage_img_array)\n",
    "\n",
    "    all_garbage_images = np.array(garbage_image_arrays)\n",
    "    garbage_ds = tf.data.Dataset.from_tensor_slices(all_garbage_images)\n",
    "\n",
    "    return garbage_ds.batch(BATCH_SIZE)"
   ]
  },
  {
   "cell_type": "code",
   "execution_count": 5,
   "metadata": {},
   "outputs": [],
   "source": [
    "def config_generator():\n",
    "  conv_layers = [1,2]\n",
    "  conv_per_layer = [4,6]\n",
    "  conv_kernel_shape = [(3,3), (5,5)]\n",
    "  dropout1 = [.5, .6, .7, .8, .9]\n",
    "  dropout2 = [.5, .6, .7, .8, .9]\n",
    "  dense_size = [256, 384, 512]\n",
    "\n",
    "  grid = [\n",
    "    conv_layers,\n",
    "    conv_per_layer,\n",
    "    conv_kernel_shape,\n",
    "    dropout1,\n",
    "    dropout2,\n",
    "    dense_size\n",
    "  ]\n",
    "\n",
    "  for c in product(*grid):\n",
    "    yield NetConfig(\n",
    "      conv_layers=c[0],\n",
    "      conv_per_layer=c[1],\n",
    "      conv_kernel_shape=c[2],\n",
    "      dropout1=c[3],\n",
    "      dropout2=c[4],\n",
    "      dense_size=c[5]\n",
    "    )\n",
    "\n",
    "def generate_model(config: NetConfig, train_ds, val_ds):\n",
    "  layers = []\n",
    "  for i in range(config.conv_layers):\n",
    "    layers.append(\n",
    "      tf.keras.layers.Conv2D(config.conv_per_layer, config.conv_kernel_shape, padding='same', activation='relu')\n",
    "    )\n",
    "  layers.append(tf.keras.layers.MaxPool2D(strides=(2,2)))\n",
    "  layers.append(tf.keras.layers.Flatten())\n",
    "  layers.append(tf.keras.layers.Dropout(config.dropout1))\n",
    "  layers.append(tf.keras.layers.Dense(config.dense_size, activation='relu'))\n",
    "  layers.append(tf.keras.layers.Dropout(config.dropout2))\n",
    "  layers.append(tf.keras.layers.Dense(8, activation='softmax'))\n",
    "  model = tf.keras.models.Sequential(layers)\n",
    "\n",
    "  model.compile(\n",
    "    optimizer='adam',\n",
    "    loss=tf.losses.SparseCategoricalCrossentropy(from_logits=True),\n",
    "    metrics=['accuracy'])\n",
    "\n",
    "  # log_dir = \"logs/fit/\"\n",
    "  # tensorboard_callback = tf.keras.callbacks.TensorBoard(log_dir=log_dir, histogram_freq=1)\n",
    "\n",
    "  history = model.fit(\n",
    "      train_ds,\n",
    "      epochs=30,\n",
    "      validation_data=val_ds,\n",
    "      verbose=0,\n",
    "      # callbacks=[tensorboard_callback]\n",
    "  )\n",
    "  return history\n"
   ]
  },
  {
   "cell_type": "code",
   "execution_count": 6,
   "metadata": {},
   "outputs": [],
   "source": [
    "def train_and_evaluate_model(c: NetConfig):\n",
    "    (train_ds, val_ds, test_ds) = load_train_data()\n",
    "    h = generate_model(c, train_ds, val_ds)\n",
    "    model = h.model\n",
    "\n",
    "    real_classes = []\n",
    "    pred_classes = []\n",
    "\n",
    "    for batch in test_ds:\n",
    "        preds = model.predict(batch[0], verbose=0)\n",
    "        pred_classes.extend(tf.argmax(preds, 1).numpy())\n",
    "        real_classes.extend(batch[1].numpy())\n",
    "\n",
    "    weighted_f1 = f1_score(real_classes, pred_classes, average='weighted')\n",
    "    micro_f1 = f1_score(real_classes, pred_classes, average='micro')\n",
    "    macro_f1 = f1_score(real_classes, pred_classes, average='macro')\n",
    "\n",
    "    discard_images = load_discard_images()\n",
    "    preds = model.predict(discard_images, verbose=0)\n",
    "    # max_arg = np.argmax(preds, axis=1)\n",
    "    max_value = np.amax(preds, axis=1)\n",
    "    high_prob_crap_percent = (np.count_nonzero(max_value > .8)/len(max_value))*100\n",
    "    ret =  {\n",
    "        'model': model,\n",
    "        'config': c,\n",
    "        'weighted_f1': weighted_f1,\n",
    "        'micro_f1': micro_f1,\n",
    "        'macro_f1': macro_f1,\n",
    "        'high_prob_crap_percent': high_prob_crap_percent\n",
    "    }\n",
    "    ret.update({k: v[29] for k,v in h.history.items()})\n",
    "    return ret"
   ]
  },
  {
   "cell_type": "code",
   "execution_count": 7,
   "metadata": {},
   "outputs": [
    {
     "name": "stdout",
     "output_type": "stream",
     "text": [
      "1 Physical GPUs, 1 Logical GPUs\n"
     ]
    },
    {
     "data": {
      "application/vnd.jupyter.widget-view+json": {
       "model_id": "2f8e325ad0604b6c87f81ab3ff02f363",
       "version_major": 2,
       "version_minor": 0
      },
      "text/plain": [
       "  0%|          | 0/600 [00:00<?, ?it/s]"
      ]
     },
     "metadata": {},
     "output_type": "display_data"
    },
    {
     "name": "stdout",
     "output_type": "stream",
     "text": [
      "load train images\n",
      "loading discard images\n"
     ]
    }
   ],
   "source": [
    "tf_init()\n",
    "rets = []\n",
    "configs = [c for c in config_generator()]\n",
    "for c in tqdm(configs):\n",
    "    r = train_and_evaluate_model(c)\n",
    "    del r['model']\n",
    "    rets.append(r)\n",
    "\n",
    "with open(\"param_results.p\", \"wb\") as f:\n",
    "    pickle.dump(rets, f)"
   ]
  }
 ],
 "metadata": {
  "kernelspec": {
   "display_name": "Python 3",
   "language": "python",
   "name": "python3"
  },
  "language_info": {
   "codemirror_mode": {
    "name": "ipython",
    "version": 3
   },
   "file_extension": ".py",
   "mimetype": "text/x-python",
   "name": "python",
   "nbconvert_exporter": "python",
   "pygments_lexer": "ipython3",
   "version": "3.10.6"
  },
  "orig_nbformat": 4
 },
 "nbformat": 4,
 "nbformat_minor": 2
}
