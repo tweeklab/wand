{
 "cells": [
  {
   "cell_type": "code",
   "execution_count": null,
   "metadata": {},
   "outputs": [],
   "source": [
    "import os\n",
    "import yaml\n",
    "\n",
    "\n",
    "import numpy as np\n",
    "\n",
    "import tensorflow as tf\n",
    "from tensorflow.keras import backend as K\n",
    "from PIL import Image\n",
    "\n",
    "LABELS_PATH = \"labels.yaml\""
   ]
  },
  {
   "cell_type": "code",
   "execution_count": null,
   "metadata": {},
   "outputs": [],
   "source": [
    "model = tf.keras.models.load_model(\"output\")"
   ]
  },
  {
   "cell_type": "code",
   "execution_count": null,
   "metadata": {},
   "outputs": [],
   "source": [
    "model.summary()"
   ]
  },
  {
   "cell_type": "code",
   "execution_count": null,
   "metadata": {},
   "outputs": [],
   "source": [
    "with open(LABELS_PATH) as f:\n",
    "    label_map = yaml.load(f, Loader=yaml.SafeLoader)[\"labels\"]\n",
    "reverse_label_map = {v: k for k, v in label_map.items()}\n",
    "repr(reverse_label_map)\n",
    "\n",
    "discard_id = max(reverse_label_map.keys())+1\n",
    "label_map['discard'] = discard_id\n",
    "reverse_label_map[discard_id] = 'discard'\n",
    "\n",
    "image_files = []\n",
    "GOOD_IMAGES_DIR = \"images/esp32/good\"\n",
    "for dir, _, files in os.walk(GOOD_IMAGES_DIR):\n",
    "    for file in files:\n",
    "        image_files.append((os.path.basename(dir), os.path.join(dir, file)))\n",
    "\n",
    "DISCARD_IMAGES_DIR = \"images/esp32/discard/\"\n",
    "for dir, _, files in os.walk(DISCARD_IMAGES_DIR):\n",
    "    for file in files:\n",
    "        image_files.append(('discard', os.path.join(dir, file)))\n",
    "\n",
    "print(len(image_files))\n",
    "print(image_files[0])"
   ]
  },
  {
   "cell_type": "code",
   "execution_count": null,
   "metadata": {},
   "outputs": [],
   "source": [
    "in_layer = model.get_layer('conv2d').input\n",
    "out_layer = model.get_layer('conv2d_1').output\n",
    "func = K.function([in_layer], [out_layer])"
   ]
  },
  {
   "cell_type": "code",
   "execution_count": null,
   "metadata": {},
   "outputs": [],
   "source": [
    "img_arrays = []\n",
    "for img_desc in image_files:\n",
    "    img = Image.open(img_desc[1])\n",
    "    img_array = np.asarray(img, dtype=np.uint8).reshape(29, 40, 1)\n",
    "    formatted_img_array = np.expand_dims(img_array, axis=0)\n",
    "    img_arrays.append(formatted_img_array)\n",
    "\n",
    "img_arrays = np.squeeze(np.array(img_arrays), axis=1)\n",
    "vectors = func(img_arrays)[0]\n",
    "\n",
    "vectors.shape"
   ]
  },
  {
   "cell_type": "code",
   "execution_count": null,
   "metadata": {},
   "outputs": [],
   "source": [
    "ref = []\n",
    "i = 350\n",
    "display(Image.fromarray(np.squeeze(img_arrays[i], axis=2)))\n",
    "for j in range(vectors.shape[1]):\n",
    "    display(Image.fromarray((vectors[i][j] * 255).astype(np.uint8)).resize((vectors.shape[3]*10, vectors.shape[2]*10)))\n",
    "    ref.append((vectors[i][j] * 255).astype(np.uint8))\n",
    "\n",
    "# i = 1109\n",
    "# display(Image.fromarray(np.squeeze(img_arrays[i], axis=2)))\n",
    "# for j in range(vectors.shape[1]):\n",
    "#     display(Image.fromarray((vectors[i][j] * 255).astype(np.uint8)).resize((vectors.shape[3]*10, vectors.shape[2]*10)))\n",
    "\n",
    "i = 1120\n",
    "display(Image.fromarray(np.squeeze(img_arrays[i], axis=2)))\n",
    "for j in range(vectors.shape[1]):\n",
    "    display(Image.fromarray((vectors[i][j] * 255).astype(np.uint8)).resize((vectors.shape[3]*10, vectors.shape[2]*10)))\n",
    "\n",
    "for j in range(vectors.shape[1]):\n",
    "    b = ref[j] & (vectors[i][j] * 255).astype(np.uint8)\n",
    "    display(Image.fromarray(b).resize((vectors.shape[3]*10, vectors.shape[2]*10)))\n",
    "\n",
    "\n",
    "print(reverse_label_map[np.argmax(model.predict(img_arrays[np.newaxis,1120], verbose=False))])\n",
    "print(np.amax(model.predict(img_arrays[np.newaxis,1120], verbose=False)))"
   ]
  }
 ],
 "metadata": {
  "kernelspec": {
   "display_name": "Python 3",
   "language": "python",
   "name": "python3"
  },
  "language_info": {
   "codemirror_mode": {
    "name": "ipython",
    "version": 3
   },
   "file_extension": ".py",
   "mimetype": "text/x-python",
   "name": "python",
   "nbconvert_exporter": "python",
   "pygments_lexer": "ipython3",
   "version": "3.10.6"
  },
  "orig_nbformat": 4
 },
 "nbformat": 4,
 "nbformat_minor": 2
}
