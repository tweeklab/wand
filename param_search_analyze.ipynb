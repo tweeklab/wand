{
 "cells": [
  {
   "cell_type": "code",
   "execution_count": 8,
   "metadata": {},
   "outputs": [],
   "source": [
    "import pandas as pd\n",
    "import numpy as np\n",
    "import pickle\n",
    "import seaborn as sns\n",
    "\n",
    "sns.set_style(\"darkgrid\")"
   ]
  },
  {
   "cell_type": "code",
   "execution_count": 2,
   "metadata": {},
   "outputs": [],
   "source": [
    "with open(\"param_results.p\", \"rb\") as f:\n",
    "    data = pickle.load(f)\n",
    "df = pd.DataFrame.from_dict(data, orient='columns')"
   ]
  },
  {
   "cell_type": "raw",
   "metadata": {},
   "source": [
    "attrs = ['conv_per_layer1', 'dense_size', 'dropout1', 'conv_kernel_shape1', 'conv_kernel_shape2']\n",
    "def extract_config(df: pd.DataFrame):\n",
    "    r = pd.Series((getattr(df.config, k) for k in attrs))\n",
    "    return r\n",
    "df[attrs] = df.apply(extract_config, axis=1)"
   ]
  },
  {
   "cell_type": "raw",
   "metadata": {},
   "source": [
    "g = sns.FacetGrid(df, row='conv_kernel_shape1', col='conv_kernel_shape2', sharex=False, sharey=False, xlim=(0, 1), ylim=(0,100))\n",
    "g.map_dataframe(sns.scatterplot, 'weighted_f1', 'high_prob_crap_percent', 'dense_size', style='dropout1').add_legend()"
   ]
  },
  {
   "cell_type": "code",
   "execution_count": 3,
   "metadata": {},
   "outputs": [],
   "source": [
    "# import pprint\n",
    "# def generate_lineplot(*args, **kwargs):\n",
    "#     fields = args\n",
    "#     loss_data = pd.DataFrame(kwargs['data']['history'].values[0])[['loss', 'val_loss']]\n",
    "#     loss_data['iteration'] = loss_data.index\n",
    "#     loss_data = pd.melt(loss_data, ['iteration'])\n",
    "#     return sns.lineplot(data=loss_data, x='iteration', y='value', hue='variable', palette=['red', 'blue'])\n",
    "# g = sns.FacetGrid(df, row='config', sharex=False, sharey=False)\n",
    "# g.map_dataframe(generate_lineplot, 'iteration', 'loss').add_legend()"
   ]
  },
  {
   "cell_type": "code",
   "execution_count": 16,
   "metadata": {},
   "outputs": [
    {
     "name": "stdout",
     "output_type": "stream",
     "text": [
      "0.1190793365240097\n",
      "0.06515876948833466\n"
     ]
    }
   ],
   "source": [
    "min_idx = np.argmin(df.iloc[0].history['val_loss'])\n",
    "print(df.iloc[0].history['val_loss'][min_idx])\n",
    "print(df.iloc[0].history['loss'][min_idx])"
   ]
  },
  {
   "cell_type": "code",
   "execution_count": null,
   "metadata": {},
   "outputs": [],
   "source": [
    "attrs = ['val_loss', 'loss', 'abs_loss_delta']\n",
    "def extract_loss(df: pd.DataFrame) -> pd.Series:\n",
    "    val_loss = df.history['val_loss'][min_idx]\n",
    "    loss = df.history['loss'][min_idx]\n",
    "    abs_loss_delta = abs(val_loss - loss)\n",
    "    return pd.Series((locals()[attr] for attr in attrs))\n",
    "df[attrs] = df.apply(extract_loss, axis=1)"
   ]
  }
 ],
 "metadata": {
  "kernelspec": {
   "display_name": "Python 3",
   "language": "python",
   "name": "python3"
  },
  "language_info": {
   "codemirror_mode": {
    "name": "ipython",
    "version": 3
   },
   "file_extension": ".py",
   "mimetype": "text/x-python",
   "name": "python",
   "nbconvert_exporter": "python",
   "pygments_lexer": "ipython3",
   "version": "3.10.6"
  },
  "orig_nbformat": 4
 },
 "nbformat": 4,
 "nbformat_minor": 2
}
