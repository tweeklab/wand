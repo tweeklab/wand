{
 "cells": [
  {
   "cell_type": "code",
   "execution_count": 1,
   "metadata": {},
   "outputs": [
    {
     "name": "stderr",
     "output_type": "stream",
     "text": [
      "2023-01-17 04:03:46.346188: I tensorflow/core/platform/cpu_feature_guard.cc:193] This TensorFlow binary is optimized with oneAPI Deep Neural Network Library (oneDNN) to use the following CPU instructions in performance-critical operations:  AVX2 FMA\n",
      "To enable them in other operations, rebuild TensorFlow with the appropriate compiler flags.\n",
      "2023-01-17 04:03:46.928360: W tensorflow/compiler/xla/stream_executor/platform/default/dso_loader.cc:64] Could not load dynamic library 'libnvinfer.so.7'; dlerror: libnvinfer.so.7: cannot open shared object file: No such file or directory; LD_LIBRARY_PATH: /usr/local/nvidia/lib:/usr/local/nvidia/lib64:/usr/local/cuda-11.3/targets/x86_64-linux/lib\n",
      "2023-01-17 04:03:46.928438: W tensorflow/compiler/xla/stream_executor/platform/default/dso_loader.cc:64] Could not load dynamic library 'libnvinfer_plugin.so.7'; dlerror: libnvinfer_plugin.so.7: cannot open shared object file: No such file or directory; LD_LIBRARY_PATH: /usr/local/nvidia/lib:/usr/local/nvidia/lib64:/usr/local/cuda-11.3/targets/x86_64-linux/lib\n",
      "2023-01-17 04:03:46.928444: W tensorflow/compiler/tf2tensorrt/utils/py_utils.cc:38] TF-TRT Warning: Cannot dlopen some TensorRT libraries. If you would like to use Nvidia GPU with TensorRT, please make sure the missing libraries mentioned above are installed properly.\n"
     ]
    }
   ],
   "source": [
    "import os\n",
    "import yaml\n",
    "import random\n",
    "\n",
    "import numpy as np\n",
    "import pandas as pd\n",
    "import tensorflow as tf\n",
    "from PIL import Image\n",
    "\n",
    "import matplotlib.pyplot as plt\n",
    "\n",
    "np.set_printoptions(precision=4)\n",
    "\n",
    "LABELS_PATH=\"labels.yaml\"\n",
    "IMAGES_BASE=\"/workspaces/motion/images/good\"\n",
    "BATCH_SIZE=10"
   ]
  },
  {
   "cell_type": "code",
   "execution_count": 2,
   "metadata": {},
   "outputs": [
    {
     "name": "stderr",
     "output_type": "stream",
     "text": [
      "2023-01-17 04:03:47.826542: I tensorflow/compiler/xla/stream_executor/cuda/cuda_gpu_executor.cc:967] could not open file to read NUMA node: /sys/bus/pci/devices/0000:01:00.0/numa_node\n",
      "Your kernel may have been built without NUMA support.\n",
      "2023-01-17 04:03:47.831196: I tensorflow/compiler/xla/stream_executor/cuda/cuda_gpu_executor.cc:967] could not open file to read NUMA node: /sys/bus/pci/devices/0000:01:00.0/numa_node\n",
      "Your kernel may have been built without NUMA support.\n",
      "2023-01-17 04:03:47.831367: I tensorflow/compiler/xla/stream_executor/cuda/cuda_gpu_executor.cc:967] could not open file to read NUMA node: /sys/bus/pci/devices/0000:01:00.0/numa_node\n",
      "Your kernel may have been built without NUMA support.\n"
     ]
    },
    {
     "data": {
      "text/plain": [
       "[PhysicalDevice(name='/physical_device:CPU:0', device_type='CPU'),\n",
       " PhysicalDevice(name='/physical_device:GPU:0', device_type='GPU')]"
      ]
     },
     "execution_count": 2,
     "metadata": {},
     "output_type": "execute_result"
    }
   ],
   "source": [
    "tf.config.list_physical_devices()"
   ]
  },
  {
   "cell_type": "code",
   "execution_count": 3,
   "metadata": {},
   "outputs": [
    {
     "name": "stderr",
     "output_type": "stream",
     "text": [
      "2023-01-17 04:03:48.008814: I tensorflow/core/platform/cpu_feature_guard.cc:193] This TensorFlow binary is optimized with oneAPI Deep Neural Network Library (oneDNN) to use the following CPU instructions in performance-critical operations:  AVX2 FMA\n",
      "To enable them in other operations, rebuild TensorFlow with the appropriate compiler flags.\n",
      "2023-01-17 04:03:48.010194: I tensorflow/compiler/xla/stream_executor/cuda/cuda_gpu_executor.cc:967] could not open file to read NUMA node: /sys/bus/pci/devices/0000:01:00.0/numa_node\n",
      "Your kernel may have been built without NUMA support.\n",
      "2023-01-17 04:03:48.010397: I tensorflow/compiler/xla/stream_executor/cuda/cuda_gpu_executor.cc:967] could not open file to read NUMA node: /sys/bus/pci/devices/0000:01:00.0/numa_node\n",
      "Your kernel may have been built without NUMA support.\n",
      "2023-01-17 04:03:48.010546: I tensorflow/compiler/xla/stream_executor/cuda/cuda_gpu_executor.cc:967] could not open file to read NUMA node: /sys/bus/pci/devices/0000:01:00.0/numa_node\n",
      "Your kernel may have been built without NUMA support.\n",
      "2023-01-17 04:03:48.495705: I tensorflow/compiler/xla/stream_executor/cuda/cuda_gpu_executor.cc:967] could not open file to read NUMA node: /sys/bus/pci/devices/0000:01:00.0/numa_node\n",
      "Your kernel may have been built without NUMA support.\n",
      "2023-01-17 04:03:48.495953: I tensorflow/compiler/xla/stream_executor/cuda/cuda_gpu_executor.cc:967] could not open file to read NUMA node: /sys/bus/pci/devices/0000:01:00.0/numa_node\n",
      "Your kernel may have been built without NUMA support.\n",
      "2023-01-17 04:03:48.495964: I tensorflow/core/common_runtime/gpu/gpu_device.cc:1700] Could not identify NUMA node of platform GPU id 0, defaulting to 0.  Your kernel may not have been built with NUMA support.\n",
      "2023-01-17 04:03:48.496143: I tensorflow/compiler/xla/stream_executor/cuda/cuda_gpu_executor.cc:967] could not open file to read NUMA node: /sys/bus/pci/devices/0000:01:00.0/numa_node\n",
      "Your kernel may have been built without NUMA support.\n",
      "2023-01-17 04:03:48.496181: I tensorflow/core/common_runtime/gpu/gpu_device.cc:1613] Created device /job:localhost/replica:0/task:0/device:GPU:0 with 2356 MB memory:  -> device: 0, name: NVIDIA GeForce RTX 2080 Ti, pci bus id: 0000:01:00.0, compute capability: 7.5\n"
     ]
    },
    {
     "data": {
      "text/plain": [
       "<BatchDataset element_spec=(TensorSpec(shape=(None, 40, 40, 1), dtype=tf.float32, name=None), TensorSpec(shape=(None,), dtype=tf.int64, name=None))>"
      ]
     },
     "metadata": {},
     "output_type": "display_data"
    },
    {
     "name": "stdout",
     "output_type": "stream",
     "text": [
      "tf.Tensor([0 4 5 3 3 6 6 1 3 1], shape=(10,), dtype=int64)\n",
      "tf.Tensor([0 2 3 5 3 4 5 2 3 5], shape=(10,), dtype=int64)\n",
      "tf.Tensor([0 2 5 5 6 1 1 1 6 3], shape=(10,), dtype=int64)\n",
      "tf.Tensor([2 1 1 0 3 6 2 2 6 6], shape=(10,), dtype=int64)\n",
      "tf.Tensor([5 4 0 6 2 4 5 0 0 5], shape=(10,), dtype=int64)\n",
      "tf.Tensor([4 2 4 4 4 1 6 5 2 2], shape=(10,), dtype=int64)\n",
      "tf.Tensor([4 1 5 1 2 0 3 1 5 4], shape=(10,), dtype=int64)\n",
      "tf.Tensor([6 4 2 3 1 6 1 2 6 6], shape=(10,), dtype=int64)\n",
      "tf.Tensor([0 4 2 6 5 6 1 4 2 3], shape=(10,), dtype=int64)\n",
      "tf.Tensor([5 6 4 0 0 2 2 2 2 1], shape=(10,), dtype=int64)\n",
      "tf.Tensor([6 6 6 1 5 2 2 4 6 0], shape=(10,), dtype=int64)\n",
      "tf.Tensor([0 1 0 4 2 5 3 2 0 4], shape=(10,), dtype=int64)\n",
      "tf.Tensor([0 5 2 3 2 0 6 4 1 1], shape=(10,), dtype=int64)\n",
      "tf.Tensor([5 2 3 4 4 5 5 5 3 0], shape=(10,), dtype=int64)\n",
      "tf.Tensor([4 3 2 2 3 1 6 4 2 1], shape=(10,), dtype=int64)\n",
      "tf.Tensor([2 0 0 2 5 4 2 0 2 2], shape=(10,), dtype=int64)\n",
      "tf.Tensor([2 4 5 6 1 0 6 3 2 6], shape=(10,), dtype=int64)\n",
      "tf.Tensor([0 3 6 6 5 2 4 0 4 4], shape=(10,), dtype=int64)\n",
      "tf.Tensor([6 3 2 4 3 2 4 2 5 3], shape=(10,), dtype=int64)\n",
      "tf.Tensor([1 2 4 1 2 5 4 3 4 6], shape=(10,), dtype=int64)\n",
      "tf.Tensor([3 6 5 4 2 1 2 2 3 4], shape=(10,), dtype=int64)\n",
      "tf.Tensor([6 1 6 0 5 3 5 6 5 6], shape=(10,), dtype=int64)\n",
      "tf.Tensor([2 2 4 1 0 2 3 4 5 1], shape=(10,), dtype=int64)\n",
      "tf.Tensor([2 6 0 2 1 0 6 2 6 6], shape=(10,), dtype=int64)\n",
      "tf.Tensor([3 3 6 4 0 0 4 0 3 2], shape=(10,), dtype=int64)\n",
      "tf.Tensor([0 5 2 4 2 4 1 1 0 1], shape=(10,), dtype=int64)\n",
      "tf.Tensor([4 0 2 2 4 2 0 6 1 3], shape=(10,), dtype=int64)\n",
      "tf.Tensor([5 2 6 3 5 4 0 6 5 4], shape=(10,), dtype=int64)\n",
      "tf.Tensor([4 1 5 1 3 4 4 3 6 1], shape=(10,), dtype=int64)\n",
      "tf.Tensor([2 3 6 2 6 2 5 2 2 4], shape=(10,), dtype=int64)\n",
      "tf.Tensor([1 2 0 3 3 6 6 3 3 3], shape=(10,), dtype=int64)\n",
      "tf.Tensor([2 6 0 6 6 5 5 2 6 3], shape=(10,), dtype=int64)\n",
      "tf.Tensor([5 4 2 6 4 2 4 6 1 3], shape=(10,), dtype=int64)\n",
      "tf.Tensor([0 2 2 4 5 3 5 5 4 3], shape=(10,), dtype=int64)\n",
      "tf.Tensor([2 4 1 5 2 2 5 1 0 2], shape=(10,), dtype=int64)\n",
      "tf.Tensor([3 5 3 6 4 5 3 2 4 3], shape=(10,), dtype=int64)\n",
      "tf.Tensor([2 1 1 6 1 2 6 6 5 4], shape=(10,), dtype=int64)\n",
      "tf.Tensor([2 4 4 2 4 4 3 6 5 1], shape=(10,), dtype=int64)\n",
      "tf.Tensor([1 2 4 5 3 0 4 5 0 3], shape=(10,), dtype=int64)\n",
      "tf.Tensor([5 6 1 4 5 2 5 6 4 1], shape=(10,), dtype=int64)\n",
      "tf.Tensor([3 6 1 2 0 2 1 3 2 6], shape=(10,), dtype=int64)\n",
      "tf.Tensor([1 5 3 2 0 2 1 2 4 1], shape=(10,), dtype=int64)\n",
      "tf.Tensor([4 6 4 2 4 5 0 6 2 0], shape=(10,), dtype=int64)\n",
      "tf.Tensor([5 2 1 2 0 0 3 4 5 3], shape=(10,), dtype=int64)\n",
      "tf.Tensor([4 4 3 5 1 6 5 0 2 1], shape=(10,), dtype=int64)\n",
      "tf.Tensor([2 0 2 5 5 5 5 2 3 5], shape=(10,), dtype=int64)\n",
      "tf.Tensor([1 4 3 2 2 2 4 1 0 2], shape=(10,), dtype=int64)\n",
      "tf.Tensor([2 5 4 3 4 1 6 4 0 1], shape=(10,), dtype=int64)\n",
      "tf.Tensor([2 6 3 5 1 1 2 2 3 1], shape=(10,), dtype=int64)\n",
      "tf.Tensor([5 1 2 2 4 2 1 1 3 2], shape=(10,), dtype=int64)\n",
      "tf.Tensor([2 2 1 1 0 4 2 3 4 3], shape=(10,), dtype=int64)\n",
      "tf.Tensor([2 1 4 3 6 1 4 2 2 2], shape=(10,), dtype=int64)\n",
      "tf.Tensor([1 1 2 6 0 2 4 1 3 2], shape=(10,), dtype=int64)\n",
      "tf.Tensor([6 4 1 2 4 1 4 1 5 4], shape=(10,), dtype=int64)\n",
      "tf.Tensor([0 1 6 6 0 0 2 5 1 3], shape=(10,), dtype=int64)\n",
      "tf.Tensor([5 3 1 2 4 5 3 3 6 4], shape=(10,), dtype=int64)\n",
      "tf.Tensor([3 5 5 6 4 2 1 3 2 4], shape=(10,), dtype=int64)\n",
      "tf.Tensor([6 2 3 2 6 2 2 2 2 3], shape=(10,), dtype=int64)\n",
      "tf.Tensor([3 5 1 3 3 5 6 2 5 1], shape=(10,), dtype=int64)\n",
      "tf.Tensor([0 4 2 4 2 5 2 6 6 0], shape=(10,), dtype=int64)\n",
      "tf.Tensor([5 3 2 0 6 3 2 1 0 4], shape=(10,), dtype=int64)\n",
      "tf.Tensor([1 4 5 4 0 1 6 5 2 4], shape=(10,), dtype=int64)\n",
      "tf.Tensor([6 6 6 4 4 5 5 2 6 5], shape=(10,), dtype=int64)\n",
      "tf.Tensor([3 5 6 0 3 2 2 3 4 3], shape=(10,), dtype=int64)\n",
      "tf.Tensor([4], shape=(1,), dtype=int64)\n"
     ]
    }
   ],
   "source": [
    "with open(LABELS_PATH) as f:\n",
    "    label_map = yaml.load(f, Loader=yaml.SafeLoader)[\"labels\"]\n",
    "reverse_label_map = {v:k for k,v in label_map.items()}\n",
    "\n",
    "examples = []\n",
    "examples_labels = []\n",
    "for dir,_,files in os.walk(IMAGES_BASE):\n",
    "    if os.path.basename(dir) == 'crap':\n",
    "        continue\n",
    "    for file in files:\n",
    "        examples.append(np.asarray(Image.open(os.path.join(dir, file)).point(lambda x: 255 if x>0 else 0), dtype=np.float32).reshape(40, 40, 1))\n",
    "        examples_labels.append(label_map[os.path.basename(dir)])\n",
    "examples_numpy = np.asarray(examples)\n",
    "examples_labels_numpy = np.asanyarray(examples_labels)\n",
    "\n",
    "ds = tf.data.Dataset.from_tensor_slices((examples_numpy, examples_labels_numpy))\n",
    "ds = ds.shuffle(buffer_size=2000, seed=1).batch(BATCH_SIZE)\n",
    "display(ds)\n",
    "\n",
    "val_ds = ds.take(6)\n",
    "test_ds = ds.skip(6).take(6)\n",
    "train_ds = ds.skip(12)\n",
    "\n",
    "for batch in train_ds:\n",
    "    print(batch[1])"
   ]
  },
  {
   "cell_type": "raw",
   "metadata": {},
   "source": [
    "for batch in val_ds.take(1):\n",
    "    labels = batch[1]\n",
    "    images = batch[0]\n",
    "\n",
    "    plt.figure(figsize=(5, 5))\n",
    "\n",
    "    for (i, (label, image)) in enumerate(zip(labels, images)):\n",
    "        ax = plt.subplot(2, 5, i + 1)\n",
    "        ax.set_title(f\"label: {label}\")\n",
    "        ax.imshow(image.numpy().astype(np.uint8))"
   ]
  },
  {
   "cell_type": "code",
   "execution_count": 4,
   "metadata": {},
   "outputs": [
    {
     "name": "stdout",
     "output_type": "stream",
     "text": [
      "Epoch 1/30\n"
     ]
    },
    {
     "name": "stderr",
     "output_type": "stream",
     "text": [
      "/usr/local/lib/python3.9/dist-packages/keras/backend.py:5585: UserWarning: \"`sparse_categorical_crossentropy` received `from_logits=True`, but the `output` argument was produced by a Softmax activation and thus does not represent logits. Was this intended?\n",
      "  output, from_logits = _get_logits(\n",
      "2023-01-17 04:03:49.518517: E tensorflow/core/grappler/optimizers/meta_optimizer.cc:954] layout failed: INVALID_ARGUMENT: Size of values 0 does not match size of permutation 4 @ fanin shape insequential/dropout/dropout/SelectV2-2-TransposeNHWCToNCHW-LayoutOptimizer\n",
      "2023-01-17 04:03:50.030633: I tensorflow/compiler/xla/stream_executor/cuda/cuda_dnn.cc:428] Loaded cuDNN version 8700\n",
      "2023-01-17 04:03:50.573533: I tensorflow/compiler/xla/service/service.cc:173] XLA service 0x1bc85b40 initialized for platform CUDA (this does not guarantee that XLA will be used). Devices:\n",
      "2023-01-17 04:03:50.573563: I tensorflow/compiler/xla/service/service.cc:181]   StreamExecutor device (0): NVIDIA GeForce RTX 2080 Ti, Compute Capability 7.5\n",
      "2023-01-17 04:03:50.577760: I tensorflow/compiler/mlir/tensorflow/utils/dump_mlir_util.cc:268] disabling MLIR crash reproducer, set env var `MLIR_CRASH_REPRODUCER_DIRECTORY` to enable.\n",
      "2023-01-17 04:03:50.676104: I tensorflow/compiler/jit/xla_compilation_cache.cc:477] Compiled cluster using XLA!  This line is logged at most once for the lifetime of the process.\n"
     ]
    },
    {
     "name": "stdout",
     "output_type": "stream",
     "text": [
      "65/65 [==============================] - 3s 7ms/step - loss: 15.2398 - accuracy: 0.5819 - val_loss: 0.5225 - val_accuracy: 0.9000\n",
      "Epoch 2/30\n",
      "65/65 [==============================] - 0s 4ms/step - loss: 2.2682 - accuracy: 0.8393 - val_loss: 0.2360 - val_accuracy: 0.9667\n",
      "Epoch 3/30\n",
      "65/65 [==============================] - 0s 5ms/step - loss: 1.7991 - accuracy: 0.8658 - val_loss: 0.0209 - val_accuracy: 0.9833\n",
      "Epoch 4/30\n",
      "65/65 [==============================] - 0s 4ms/step - loss: 0.9770 - accuracy: 0.9064 - val_loss: 1.3770e-04 - val_accuracy: 1.0000\n",
      "Epoch 5/30\n",
      "65/65 [==============================] - 0s 4ms/step - loss: 0.7147 - accuracy: 0.9189 - val_loss: 0.0154 - val_accuracy: 1.0000\n",
      "Epoch 6/30\n",
      "65/65 [==============================] - 0s 4ms/step - loss: 0.6750 - accuracy: 0.9189 - val_loss: 0.0849 - val_accuracy: 0.9833\n",
      "Epoch 7/30\n",
      "65/65 [==============================] - 0s 5ms/step - loss: 0.4372 - accuracy: 0.9376 - val_loss: 2.1973e-04 - val_accuracy: 1.0000\n",
      "Epoch 8/30\n",
      "65/65 [==============================] - 0s 4ms/step - loss: 0.3258 - accuracy: 0.9485 - val_loss: 9.0468e-04 - val_accuracy: 1.0000\n",
      "Epoch 9/30\n",
      "65/65 [==============================] - 0s 4ms/step - loss: 0.3017 - accuracy: 0.9516 - val_loss: 0.0108 - val_accuracy: 1.0000\n",
      "Epoch 10/30\n",
      "65/65 [==============================] - 0s 5ms/step - loss: 0.2245 - accuracy: 0.9438 - val_loss: 1.4949e-04 - val_accuracy: 1.0000\n",
      "Epoch 11/30\n",
      "65/65 [==============================] - 0s 5ms/step - loss: 0.2207 - accuracy: 0.9641 - val_loss: 6.7029e-04 - val_accuracy: 1.0000\n",
      "Epoch 12/30\n",
      "65/65 [==============================] - 0s 5ms/step - loss: 0.2126 - accuracy: 0.9594 - val_loss: 1.6702e-04 - val_accuracy: 1.0000\n",
      "Epoch 13/30\n",
      "65/65 [==============================] - 0s 5ms/step - loss: 0.1934 - accuracy: 0.9563 - val_loss: 0.0103 - val_accuracy: 1.0000\n",
      "Epoch 14/30\n",
      "65/65 [==============================] - 0s 5ms/step - loss: 0.2462 - accuracy: 0.9516 - val_loss: 3.2354e-05 - val_accuracy: 1.0000\n",
      "Epoch 15/30\n",
      "65/65 [==============================] - 0s 5ms/step - loss: 0.2288 - accuracy: 0.9594 - val_loss: 7.2795e-05 - val_accuracy: 1.0000\n",
      "Epoch 16/30\n",
      "65/65 [==============================] - 0s 5ms/step - loss: 0.1401 - accuracy: 0.9704 - val_loss: 8.5484e-06 - val_accuracy: 1.0000\n",
      "Epoch 17/30\n",
      "65/65 [==============================] - 0s 5ms/step - loss: 0.1561 - accuracy: 0.9672 - val_loss: 7.7321e-05 - val_accuracy: 1.0000\n",
      "Epoch 18/30\n",
      "65/65 [==============================] - 0s 5ms/step - loss: 0.1364 - accuracy: 0.9735 - val_loss: 7.7428e-05 - val_accuracy: 1.0000\n",
      "Epoch 19/30\n",
      "65/65 [==============================] - 0s 5ms/step - loss: 0.1457 - accuracy: 0.9626 - val_loss: 2.2172e-06 - val_accuracy: 1.0000\n",
      "Epoch 20/30\n",
      "65/65 [==============================] - 0s 5ms/step - loss: 0.1062 - accuracy: 0.9750 - val_loss: 3.9953e-06 - val_accuracy: 1.0000\n",
      "Epoch 21/30\n",
      "65/65 [==============================] - 0s 5ms/step - loss: 0.1086 - accuracy: 0.9813 - val_loss: 2.9921e-04 - val_accuracy: 1.0000\n",
      "Epoch 22/30\n",
      "65/65 [==============================] - 0s 5ms/step - loss: 0.0596 - accuracy: 0.9828 - val_loss: 5.3301e-06 - val_accuracy: 1.0000\n",
      "Epoch 23/30\n",
      "65/65 [==============================] - 0s 5ms/step - loss: 0.1108 - accuracy: 0.9766 - val_loss: 5.5035e-07 - val_accuracy: 1.0000\n",
      "Epoch 24/30\n",
      "65/65 [==============================] - 0s 5ms/step - loss: 0.1827 - accuracy: 0.9594 - val_loss: 8.6149e-06 - val_accuracy: 1.0000\n",
      "Epoch 25/30\n",
      "65/65 [==============================] - 0s 5ms/step - loss: 0.0949 - accuracy: 0.9735 - val_loss: 9.6574e-06 - val_accuracy: 1.0000\n",
      "Epoch 26/30\n",
      "65/65 [==============================] - 0s 5ms/step - loss: 0.1285 - accuracy: 0.9766 - val_loss: 1.8558e-05 - val_accuracy: 1.0000\n",
      "Epoch 27/30\n",
      "65/65 [==============================] - 0s 5ms/step - loss: 0.1095 - accuracy: 0.9782 - val_loss: 1.1291e-05 - val_accuracy: 1.0000\n",
      "Epoch 28/30\n",
      "65/65 [==============================] - 0s 5ms/step - loss: 0.0793 - accuracy: 0.9735 - val_loss: 3.0796e-07 - val_accuracy: 1.0000\n",
      "Epoch 29/30\n",
      "65/65 [==============================] - 0s 5ms/step - loss: 0.1101 - accuracy: 0.9782 - val_loss: 3.5167e-07 - val_accuracy: 1.0000\n",
      "Epoch 30/30\n",
      "65/65 [==============================] - 0s 5ms/step - loss: 0.1288 - accuracy: 0.9719 - val_loss: 7.1525e-07 - val_accuracy: 1.0000\n"
     ]
    },
    {
     "data": {
      "text/plain": [
       "<keras.callbacks.History at 0x7f9ad80643d0>"
      ]
     },
     "execution_count": 4,
     "metadata": {},
     "output_type": "execute_result"
    }
   ],
   "source": [
    "tf.debugging.set_log_device_placement(True)\n",
    "model = tf.keras.models.Sequential([\n",
    "    tf.keras.layers.Conv2D(4, (3,3), padding='same', activation='relu'),\n",
    "    tf.keras.layers.Conv2D(4, (3,3), padding='same', activation='relu'),\n",
    "    tf.keras.layers.MaxPool2D(strides=(2,2)),\n",
    "    tf.keras.layers.Dropout(0.5),\n",
    "    tf.keras.layers.Flatten(),\n",
    "    tf.keras.layers.Dense(128, activation='relu'),\n",
    "    tf.keras.layers.Dropout(0.5),\n",
    "    tf.keras.layers.Dense(7, activation='softmax')\n",
    "])\n",
    "\n",
    "model.compile(\n",
    "  optimizer='adam',\n",
    "  loss=tf.losses.SparseCategoricalCrossentropy(from_logits=True),\n",
    "  metrics=['accuracy'])\n",
    "\n",
    "model.fit(\n",
    "    train_ds,\n",
    "    epochs=30,\n",
    "    validation_data=val_ds,\n",
    ")"
   ]
  },
  {
   "cell_type": "code",
   "execution_count": 5,
   "metadata": {},
   "outputs": [
    {
     "name": "stdout",
     "output_type": "stream",
     "text": [
      "mimblewimble\n",
      "(40, 40)\n"
     ]
    },
    {
     "data": {
      "image/png": "[encoded data removed]",
      "text/plain": [
       "<PIL.Image.Image image mode=RGB size=40x40>"
      ]
     },
     "metadata": {},
     "output_type": "display_data"
    },
    {
     "name": "stdout",
     "output_type": "stream",
     "text": [
      "(1, 40, 40)\n",
      "1/1 [==============================] - 0s 71ms/step\n",
      "['0.0000', '0.0000', '0.0000', '1.0000', '0.0000', '0.0000', '0.0000']\n",
      "0.99999964\n",
      "mimblewimble\n"
     ]
    }
   ],
   "source": [
    "b = next(iter(test_ds))\n",
    "img_array = b[0][0]\n",
    "print(reverse_label_map[b[1][0].numpy()])\n",
    "array_shaped = img_array.numpy().reshape(40,40)\n",
    "print(array_shaped.shape)\n",
    "display(Image.fromarray(array_shaped*255).convert(\"RGB\"))\n",
    "print(np.expand_dims(np.squeeze(img_array), axis=0).shape)\n",
    "r = model.predict(np.expand_dims(np.squeeze(img_array), axis=0))\n",
    "print([f\"{i:.4f}\" for i in r[0]])\n",
    "print(np.max(r))\n",
    "raw_pred = tf.argmax(r, 1).numpy()[0]\n",
    "print(reverse_label_map[raw_pred])"
   ]
  },
  {
   "cell_type": "code",
   "execution_count": 6,
   "metadata": {},
   "outputs": [
    {
     "name": "stdout",
     "output_type": "stream",
     "text": [
      "WARNING:tensorflow:Layers in a Sequential model should only have a single input tensor. Received: inputs=(<tf.Tensor 'IteratorGetNext:0' shape=(None, 40, 40, 1) dtype=float32>, <tf.Tensor 'IteratorGetNext:1' shape=(None,) dtype=int64>). Consider rewriting this model with the Functional API.\n",
      "1/1 [==============================] - 0s 51ms/step\n",
      "1/1 [==============================] - 0s 16ms/step\n",
      "1/1 [==============================] - 0s 16ms/step\n",
      "1/1 [==============================] - 0s 17ms/step\n",
      "1/1 [==============================] - 0s 15ms/step\n",
      "1/1 [==============================] - 0s 16ms/step\n"
     ]
    },
    {
     "data": {
      "text/plain": [
       "Text(0.5, 1.0, 'Confusion Matrix')"
      ]
     },
     "execution_count": 6,
     "metadata": {},
     "output_type": "execute_result"
    },
    {
     "data": {
      "image/png": "[encoded data removed]",
      "text/plain": [
       "<Figure size 750x750 with 1 Axes>"
      ]
     },
     "metadata": {},
     "output_type": "display_data"
    }
   ],
   "source": [
    "real_classes = []\n",
    "pred_classes = []\n",
    "\n",
    "for batch in test_ds:\n",
    "    preds = model.predict(batch)\n",
    "    pred_classes.extend(tf.argmax(preds, 1).numpy())\n",
    "    real_classes.extend(batch[1].numpy())\n",
    "\n",
    "conf_matrix = tf.math.confusion_matrix(real_classes, pred_classes)\n",
    "\n",
    "fig, ax = plt.subplots(figsize=(7.5, 7.5))\n",
    "ax.matshow(conf_matrix, cmap=plt.cm.gray, alpha=0.3)\n",
    "for i in range(conf_matrix.shape[0]):\n",
    "    for j in range(conf_matrix.shape[1]):\n",
    "        ax.text(x=j, y=i,s=conf_matrix[i, j].numpy(), va='center', ha='center', size='xx-large')\n",
    " \n",
    "plt.xlabel('Predictions', fontsize=18)\n",
    "plt.ylabel('Actuals', fontsize=18)\n",
    "plt.title('Confusion Matrix', fontsize=18)"
   ]
  },
  {
   "cell_type": "code",
   "execution_count": 7,
   "metadata": {},
   "outputs": [
    {
     "name": "stdout",
     "output_type": "stream",
     "text": [
      "INFO:tensorflow:Unsupported signature for serialization: ((TensorSpec(shape=(3, 3, 1, 4), dtype=tf.float32, name='gradient'), <tensorflow.python.framework.func_graph.UnknownArgument object at 0x7f9a94d25a00>, 140302489349696), {}).\n",
      "INFO:tensorflow:Unsupported signature for serialization: ((TensorSpec(shape=(4,), dtype=tf.float32, name='gradient'), <tensorflow.python.framework.func_graph.UnknownArgument object at 0x7f9a94d31cd0>, 140302489535344), {}).\n",
      "INFO:tensorflow:Unsupported signature for serialization: ((TensorSpec(shape=(3, 3, 4, 4), dtype=tf.float32, name='gradient'), <tensorflow.python.framework.func_graph.UnknownArgument object at 0x7f9a94c83130>, 140302488964912), {}).\n",
      "INFO:tensorflow:Unsupported signature for serialization: ((TensorSpec(shape=(4,), dtype=tf.float32, name='gradient'), <tensorflow.python.framework.func_graph.UnknownArgument object at 0x7f9a94ca81c0>, 140302488964832), {}).\n",
      "INFO:tensorflow:Unsupported signature for serialization: ((TensorSpec(shape=(1600, 128), dtype=tf.float32, name='gradient'), <tensorflow.python.framework.func_graph.UnknownArgument object at 0x7f9a94c3b130>, 140302488995760), {}).\n",
      "INFO:tensorflow:Unsupported signature for serialization: ((TensorSpec(shape=(128,), dtype=tf.float32, name='gradient'), <tensorflow.python.framework.func_graph.UnknownArgument object at 0x7f9a94c50160>, 140302489500976), {}).\n",
      "INFO:tensorflow:Unsupported signature for serialization: ((TensorSpec(shape=(128, 7), dtype=tf.float32, name='gradient'), <tensorflow.python.framework.func_graph.UnknownArgument object at 0x7f9a94c640d0>, 140302489067728), {}).\n",
      "INFO:tensorflow:Unsupported signature for serialization: ((TensorSpec(shape=(7,), dtype=tf.float32, name='gradient'), <tensorflow.python.framework.func_graph.UnknownArgument object at 0x7f9a94c78100>, 140302489067968), {}).\n",
      "INFO:tensorflow:Unsupported signature for serialization: ((TensorSpec(shape=(3, 3, 1, 4), dtype=tf.float32, name='gradient'), <tensorflow.python.framework.func_graph.UnknownArgument object at 0x7f9a94d25a00>, 140302489349696), {}).\n",
      "INFO:tensorflow:Unsupported signature for serialization: ((TensorSpec(shape=(4,), dtype=tf.float32, name='gradient'), <tensorflow.python.framework.func_graph.UnknownArgument object at 0x7f9a94d31cd0>, 140302489535344), {}).\n",
      "INFO:tensorflow:Unsupported signature for serialization: ((TensorSpec(shape=(3, 3, 4, 4), dtype=tf.float32, name='gradient'), <tensorflow.python.framework.func_graph.UnknownArgument object at 0x7f9a94c83130>, 140302488964912), {}).\n",
      "INFO:tensorflow:Unsupported signature for serialization: ((TensorSpec(shape=(4,), dtype=tf.float32, name='gradient'), <tensorflow.python.framework.func_graph.UnknownArgument object at 0x7f9a94ca81c0>, 140302488964832), {}).\n",
      "INFO:tensorflow:Unsupported signature for serialization: ((TensorSpec(shape=(1600, 128), dtype=tf.float32, name='gradient'), <tensorflow.python.framework.func_graph.UnknownArgument object at 0x7f9a94c3b130>, 140302488995760), {}).\n",
      "INFO:tensorflow:Unsupported signature for serialization: ((TensorSpec(shape=(128,), dtype=tf.float32, name='gradient'), <tensorflow.python.framework.func_graph.UnknownArgument object at 0x7f9a94c50160>, 140302489500976), {}).\n",
      "INFO:tensorflow:Unsupported signature for serialization: ((TensorSpec(shape=(128, 7), dtype=tf.float32, name='gradient'), <tensorflow.python.framework.func_graph.UnknownArgument object at 0x7f9a94c640d0>, 140302489067728), {}).\n",
      "INFO:tensorflow:Unsupported signature for serialization: ((TensorSpec(shape=(7,), dtype=tf.float32, name='gradient'), <tensorflow.python.framework.func_graph.UnknownArgument object at 0x7f9a94c78100>, 140302489067968), {}).\n"
     ]
    },
    {
     "name": "stderr",
     "output_type": "stream",
     "text": [
      "WARNING:absl:Found untraced functions such as _jit_compiled_convolution_op, _jit_compiled_convolution_op, _update_step_xla while saving (showing 3 of 3). These functions will not be directly callable after loading.\n"
     ]
    },
    {
     "name": "stdout",
     "output_type": "stream",
     "text": [
      "INFO:tensorflow:Assets written to: output/assets\n"
     ]
    },
    {
     "name": "stderr",
     "output_type": "stream",
     "text": [
      "INFO:tensorflow:Assets written to: output/assets\n"
     ]
    }
   ],
   "source": [
    "model.save(\"output\")"
   ]
  }
 ],
 "metadata": {
  "kernelspec": {
   "display_name": "Python 3",
   "language": "python",
   "name": "python3"
  },
  "language_info": {
   "codemirror_mode": {
    "name": "ipython",
    "version": 3
   },
   "file_extension": ".py",
   "mimetype": "text/x-python",
   "name": "python",
   "nbconvert_exporter": "python",
   "pygments_lexer": "ipython3",
   "version": "3.9.5"
  },
  "orig_nbformat": 4,
  "vscode": {
   "interpreter": {
    "hash": "e7370f93d1d0cde622a1f8e1c04877d8463912d04d973331ad4851f04de6915a"
   }
  }
 },
 "nbformat": 4,
 "nbformat_minor": 2
}
