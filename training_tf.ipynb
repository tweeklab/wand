{
 "cells": [
  {
   "cell_type": "code",
   "execution_count": 1,
   "metadata": {},
   "outputs": [
    {
     "name": "stderr",
     "output_type": "stream",
     "text": [
      "2023-01-15 16:55:52.504058: I tensorflow/core/platform/cpu_feature_guard.cc:193] This TensorFlow binary is optimized with oneAPI Deep Neural Network Library (oneDNN) to use the following CPU instructions in performance-critical operations:  AVX2 FMA\n",
      "To enable them in other operations, rebuild TensorFlow with the appropriate compiler flags.\n",
      "2023-01-15 16:55:53.075848: W tensorflow/compiler/xla/stream_executor/platform/default/dso_loader.cc:64] Could not load dynamic library 'libnvinfer.so.7'; dlerror: libnvinfer.so.7: cannot open shared object file: No such file or directory; LD_LIBRARY_PATH: /usr/local/nvidia/lib:/usr/local/nvidia/lib64:/usr/local/cuda-11.3/targets/x86_64-linux/lib\n",
      "2023-01-15 16:55:53.075924: W tensorflow/compiler/xla/stream_executor/platform/default/dso_loader.cc:64] Could not load dynamic library 'libnvinfer_plugin.so.7'; dlerror: libnvinfer_plugin.so.7: cannot open shared object file: No such file or directory; LD_LIBRARY_PATH: /usr/local/nvidia/lib:/usr/local/nvidia/lib64:/usr/local/cuda-11.3/targets/x86_64-linux/lib\n",
      "2023-01-15 16:55:53.075930: W tensorflow/compiler/tf2tensorrt/utils/py_utils.cc:38] TF-TRT Warning: Cannot dlopen some TensorRT libraries. If you would like to use Nvidia GPU with TensorRT, please make sure the missing libraries mentioned above are installed properly.\n"
     ]
    }
   ],
   "source": [
    "import os\n",
    "import yaml\n",
    "import random\n",
    "\n",
    "import numpy as np\n",
    "import pandas as pd\n",
    "import tensorflow as tf\n",
    "from PIL import Image\n",
    "\n",
    "import matplotlib.pyplot as plt\n",
    "\n",
    "LABELS_PATH=\"labels.yaml\"\n",
    "IMAGES_BASE=\"/workspaces/motion/images/good\""
   ]
  },
  {
   "cell_type": "code",
   "execution_count": 2,
   "metadata": {},
   "outputs": [
    {
     "name": "stderr",
     "output_type": "stream",
     "text": [
      "2023-01-15 16:55:53.824365: I tensorflow/compiler/xla/stream_executor/cuda/cuda_gpu_executor.cc:967] could not open file to read NUMA node: /sys/bus/pci/devices/0000:01:00.0/numa_node\n",
      "Your kernel may have been built without NUMA support.\n",
      "2023-01-15 16:55:53.828443: I tensorflow/compiler/xla/stream_executor/cuda/cuda_gpu_executor.cc:967] could not open file to read NUMA node: /sys/bus/pci/devices/0000:01:00.0/numa_node\n",
      "Your kernel may have been built without NUMA support.\n",
      "2023-01-15 16:55:53.828630: I tensorflow/compiler/xla/stream_executor/cuda/cuda_gpu_executor.cc:967] could not open file to read NUMA node: /sys/bus/pci/devices/0000:01:00.0/numa_node\n",
      "Your kernel may have been built without NUMA support.\n"
     ]
    },
    {
     "data": {
      "text/plain": [
       "[PhysicalDevice(name='/physical_device:CPU:0', device_type='CPU'),\n",
       " PhysicalDevice(name='/physical_device:GPU:0', device_type='GPU')]"
      ]
     },
     "execution_count": 2,
     "metadata": {},
     "output_type": "execute_result"
    }
   ],
   "source": [
    "tf.config.list_physical_devices()"
   ]
  },
  {
   "cell_type": "code",
   "execution_count": 3,
   "metadata": {},
   "outputs": [
    {
     "name": "stdout",
     "output_type": "stream",
     "text": [
      "Found 1181 files belonging to 7 classes.\n"
     ]
    },
    {
     "name": "stderr",
     "output_type": "stream",
     "text": [
      "2023-01-15 16:55:53.931821: I tensorflow/core/platform/cpu_feature_guard.cc:193] This TensorFlow binary is optimized with oneAPI Deep Neural Network Library (oneDNN) to use the following CPU instructions in performance-critical operations:  AVX2 FMA\n",
      "To enable them in other operations, rebuild TensorFlow with the appropriate compiler flags.\n",
      "2023-01-15 16:55:53.932991: I tensorflow/compiler/xla/stream_executor/cuda/cuda_gpu_executor.cc:967] could not open file to read NUMA node: /sys/bus/pci/devices/0000:01:00.0/numa_node\n",
      "Your kernel may have been built without NUMA support.\n",
      "2023-01-15 16:55:53.933174: I tensorflow/compiler/xla/stream_executor/cuda/cuda_gpu_executor.cc:967] could not open file to read NUMA node: /sys/bus/pci/devices/0000:01:00.0/numa_node\n",
      "Your kernel may have been built without NUMA support.\n",
      "2023-01-15 16:55:53.933322: I tensorflow/compiler/xla/stream_executor/cuda/cuda_gpu_executor.cc:967] could not open file to read NUMA node: /sys/bus/pci/devices/0000:01:00.0/numa_node\n",
      "Your kernel may have been built without NUMA support.\n",
      "2023-01-15 16:55:54.360108: I tensorflow/compiler/xla/stream_executor/cuda/cuda_gpu_executor.cc:967] could not open file to read NUMA node: /sys/bus/pci/devices/0000:01:00.0/numa_node\n",
      "Your kernel may have been built without NUMA support.\n",
      "2023-01-15 16:55:54.360295: I tensorflow/compiler/xla/stream_executor/cuda/cuda_gpu_executor.cc:967] could not open file to read NUMA node: /sys/bus/pci/devices/0000:01:00.0/numa_node\n",
      "Your kernel may have been built without NUMA support.\n",
      "2023-01-15 16:55:54.360304: I tensorflow/core/common_runtime/gpu/gpu_device.cc:1700] Could not identify NUMA node of platform GPU id 0, defaulting to 0.  Your kernel may not have been built with NUMA support.\n",
      "2023-01-15 16:55:54.360449: I tensorflow/compiler/xla/stream_executor/cuda/cuda_gpu_executor.cc:967] could not open file to read NUMA node: /sys/bus/pci/devices/0000:01:00.0/numa_node\n",
      "Your kernel may have been built without NUMA support.\n",
      "2023-01-15 16:55:54.360479: I tensorflow/core/common_runtime/gpu/gpu_device.cc:1613] Created device /job:localhost/replica:0/task:0/device:GPU:0 with 8893 MB memory:  -> device: 0, name: NVIDIA GeForce RTX 2080 Ti, pci bus id: 0000:01:00.0, compute capability: 7.5\n"
     ]
    }
   ],
   "source": [
    "with open(LABELS_PATH) as f:\n",
    "    label_map = yaml.load(f, Loader=yaml.SafeLoader)[\"labels\"]\n",
    "reverse_label_map = {v:k for k,v in label_map.items()}\n",
    "\n",
    "labels = []\n",
    "for dir,subdirs,files in os.walk(IMAGES_BASE):\n",
    "    label = os.path.basename(dir)\n",
    "    subdirs.sort()\n",
    "    files.sort()\n",
    "    for file in files:\n",
    "        fullpath = os.path.join(dir, file)\n",
    "        labels.append(label_map[label])\n",
    "\n",
    "ds = tf.keras.utils.image_dataset_from_directory(\n",
    "    IMAGES_BASE,\n",
    "    labels=labels,\n",
    "    label_mode=\"int\",\n",
    "    color_mode=\"grayscale\",\n",
    "    batch_size=10,\n",
    "    image_size=(40, 40),\n",
    "    shuffle=True,\n",
    "    seed=1,\n",
    "    validation_split=None,\n",
    "    subset=None,\n",
    "    interpolation=\"bilinear\",\n",
    "    follow_links=False,\n",
    "    crop_to_aspect_ratio=False,\n",
    ")\n",
    "val_ds = ds.take(10)\n",
    "test_ds = ds.skip(10).take(10)\n",
    "train_ds = ds.skip(20)"
   ]
  },
  {
   "cell_type": "raw",
   "metadata": {},
   "source": [
    "for batch in train_ds:\n",
    "    labels = batch[1]\n",
    "    images = batch[0]\n",
    "\n",
    "    plt.figure(figsize=(5, 5))\n",
    "\n",
    "    for (i, (label, image)) in enumerate(zip(labels, images)):\n",
    "        ax = plt.subplot(2, 5, i + 1)\n",
    "        ax.set_title(f\"label: {label}\")\n",
    "        ax.imshow(image.numpy().astype(np.uint8))\n"
   ]
  },
  {
   "cell_type": "code",
   "execution_count": 4,
   "metadata": {},
   "outputs": [
    {
     "name": "stdout",
     "output_type": "stream",
     "text": [
      "Epoch 1/30\n"
     ]
    },
    {
     "name": "stderr",
     "output_type": "stream",
     "text": [
      "/usr/local/lib/python3.9/dist-packages/keras/backend.py:5585: UserWarning: \"`sparse_categorical_crossentropy` received `from_logits=True`, but the `output` argument was produced by a Softmax activation and thus does not represent logits. Was this intended?\n",
      "  output, from_logits = _get_logits(\n",
      "2023-01-15 16:55:55.268627: E tensorflow/core/grappler/optimizers/meta_optimizer.cc:954] layout failed: INVALID_ARGUMENT: Size of values 0 does not match size of permutation 4 @ fanin shape insequential/dropout/dropout/SelectV2-2-TransposeNHWCToNCHW-LayoutOptimizer\n",
      "2023-01-15 16:55:55.811369: I tensorflow/compiler/xla/stream_executor/cuda/cuda_dnn.cc:428] Loaded cuDNN version 8700\n",
      "2023-01-15 16:55:56.331842: I tensorflow/compiler/xla/service/service.cc:173] XLA service 0x7f6514c40d50 initialized for platform CUDA (this does not guarantee that XLA will be used). Devices:\n",
      "2023-01-15 16:55:56.331869: I tensorflow/compiler/xla/service/service.cc:181]   StreamExecutor device (0): NVIDIA GeForce RTX 2080 Ti, Compute Capability 7.5\n",
      "2023-01-15 16:55:56.335555: I tensorflow/compiler/mlir/tensorflow/utils/dump_mlir_util.cc:268] disabling MLIR crash reproducer, set env var `MLIR_CRASH_REPRODUCER_DIRECTORY` to enable.\n",
      "2023-01-15 16:55:56.432375: I tensorflow/compiler/jit/xla_compilation_cache.cc:477] Compiled cluster using XLA!  This line is logged at most once for the lifetime of the process.\n"
     ]
    },
    {
     "name": "stdout",
     "output_type": "stream",
     "text": [
      "99/99 [==============================] - 3s 6ms/step - loss: 12.0857 - accuracy: 0.5556 - val_loss: 0.9738 - val_accuracy: 0.8300\n",
      "Epoch 2/30\n",
      "99/99 [==============================] - 0s 4ms/step - loss: 1.8453 - accuracy: 0.7339 - val_loss: 0.3920 - val_accuracy: 0.8800\n",
      "Epoch 3/30\n",
      "99/99 [==============================] - 0s 4ms/step - loss: 1.0968 - accuracy: 0.7808 - val_loss: 0.6661 - val_accuracy: 0.8300\n",
      "Epoch 4/30\n",
      "99/99 [==============================] - 0s 4ms/step - loss: 0.7572 - accuracy: 0.8277 - val_loss: 0.4420 - val_accuracy: 0.8700\n",
      "Epoch 5/30\n",
      "99/99 [==============================] - 0s 4ms/step - loss: 0.5206 - accuracy: 0.8573 - val_loss: 0.3260 - val_accuracy: 0.9100\n",
      "Epoch 6/30\n",
      "99/99 [==============================] - 0s 4ms/step - loss: 0.5282 - accuracy: 0.8624 - val_loss: 0.2575 - val_accuracy: 0.9400\n",
      "Epoch 7/30\n",
      "99/99 [==============================] - 0s 4ms/step - loss: 0.3416 - accuracy: 0.9083 - val_loss: 0.3110 - val_accuracy: 0.9200\n",
      "Epoch 8/30\n",
      "99/99 [==============================] - 0s 4ms/step - loss: 0.3620 - accuracy: 0.8991 - val_loss: 0.2837 - val_accuracy: 0.9000\n",
      "Epoch 9/30\n",
      "99/99 [==============================] - 0s 4ms/step - loss: 0.2813 - accuracy: 0.9042 - val_loss: 0.2604 - val_accuracy: 0.9300\n",
      "Epoch 10/30\n",
      "99/99 [==============================] - 0s 4ms/step - loss: 0.2704 - accuracy: 0.9164 - val_loss: 0.1086 - val_accuracy: 0.9800\n",
      "Epoch 11/30\n",
      "99/99 [==============================] - 0s 4ms/step - loss: 0.2980 - accuracy: 0.9225 - val_loss: 0.2064 - val_accuracy: 0.9400\n",
      "Epoch 12/30\n",
      "99/99 [==============================] - 0s 5ms/step - loss: 0.2544 - accuracy: 0.9286 - val_loss: 0.2433 - val_accuracy: 0.9500\n",
      "Epoch 13/30\n",
      "99/99 [==============================] - 0s 5ms/step - loss: 0.2148 - accuracy: 0.9358 - val_loss: 0.1244 - val_accuracy: 0.9600\n",
      "Epoch 14/30\n",
      "99/99 [==============================] - 0s 5ms/step - loss: 0.1864 - accuracy: 0.9480 - val_loss: 0.1414 - val_accuracy: 0.9500\n",
      "Epoch 15/30\n",
      "99/99 [==============================] - 0s 5ms/step - loss: 0.1843 - accuracy: 0.9409 - val_loss: 0.1382 - val_accuracy: 0.9600\n",
      "Epoch 16/30\n",
      "99/99 [==============================] - 0s 5ms/step - loss: 0.1588 - accuracy: 0.9480 - val_loss: 0.1820 - val_accuracy: 0.9400\n",
      "Epoch 17/30\n",
      "99/99 [==============================] - 0s 5ms/step - loss: 0.2029 - accuracy: 0.9388 - val_loss: 0.1171 - val_accuracy: 0.9400\n",
      "Epoch 18/30\n",
      "99/99 [==============================] - 0s 5ms/step - loss: 0.2298 - accuracy: 0.9388 - val_loss: 0.1428 - val_accuracy: 0.9500\n",
      "Epoch 19/30\n",
      "99/99 [==============================] - 0s 5ms/step - loss: 0.1473 - accuracy: 0.9541 - val_loss: 0.0848 - val_accuracy: 0.9700\n",
      "Epoch 20/30\n",
      "99/99 [==============================] - 0s 5ms/step - loss: 0.1675 - accuracy: 0.9480 - val_loss: 0.0973 - val_accuracy: 0.9700\n",
      "Epoch 21/30\n",
      "99/99 [==============================] - 0s 5ms/step - loss: 0.0965 - accuracy: 0.9674 - val_loss: 0.1307 - val_accuracy: 0.9600\n",
      "Epoch 22/30\n",
      "99/99 [==============================] - 0s 5ms/step - loss: 0.1884 - accuracy: 0.9521 - val_loss: 0.1052 - val_accuracy: 0.9700\n",
      "Epoch 23/30\n",
      "99/99 [==============================] - 0s 5ms/step - loss: 0.1058 - accuracy: 0.9684 - val_loss: 0.0807 - val_accuracy: 0.9800\n",
      "Epoch 24/30\n",
      "99/99 [==============================] - 0s 5ms/step - loss: 0.0937 - accuracy: 0.9776 - val_loss: 0.0774 - val_accuracy: 0.9800\n",
      "Epoch 25/30\n",
      "99/99 [==============================] - 0s 5ms/step - loss: 0.1106 - accuracy: 0.9664 - val_loss: 0.0653 - val_accuracy: 0.9900\n",
      "Epoch 26/30\n",
      "99/99 [==============================] - 0s 5ms/step - loss: 0.1065 - accuracy: 0.9643 - val_loss: 0.0980 - val_accuracy: 0.9700\n",
      "Epoch 27/30\n",
      "99/99 [==============================] - 0s 5ms/step - loss: 0.0833 - accuracy: 0.9755 - val_loss: 0.1512 - val_accuracy: 0.9700\n",
      "Epoch 28/30\n",
      "99/99 [==============================] - 0s 5ms/step - loss: 0.1016 - accuracy: 0.9694 - val_loss: 0.1020 - val_accuracy: 0.9600\n",
      "Epoch 29/30\n",
      "99/99 [==============================] - 0s 5ms/step - loss: 0.0891 - accuracy: 0.9715 - val_loss: 0.1042 - val_accuracy: 0.9600\n",
      "Epoch 30/30\n",
      "99/99 [==============================] - 0s 5ms/step - loss: 0.0838 - accuracy: 0.9786 - val_loss: 0.1315 - val_accuracy: 0.9600\n"
     ]
    },
    {
     "data": {
      "text/plain": [
       "<keras.callbacks.History at 0x7f6773475670>"
      ]
     },
     "execution_count": 4,
     "metadata": {},
     "output_type": "execute_result"
    }
   ],
   "source": [
    "tf.debugging.set_log_device_placement(True)\n",
    "model = tf.keras.models.Sequential([\n",
    "    tf.keras.layers.Conv2D(4, (3,3), padding='same', activation='relu'),\n",
    "    tf.keras.layers.Conv2D(4, (3,3), padding='same', activation='relu'),\n",
    "    tf.keras.layers.MaxPool2D(strides=(2,2)),\n",
    "    tf.keras.layers.Dropout(0.5),\n",
    "    tf.keras.layers.Flatten(),\n",
    "    tf.keras.layers.Dense(128, activation='relu'),\n",
    "    tf.keras.layers.Dropout(0.5),\n",
    "    tf.keras.layers.Dense(7, activation='softmax')\n",
    "])\n",
    "\n",
    "model.compile(\n",
    "  optimizer='adam',\n",
    "  loss=tf.losses.SparseCategoricalCrossentropy(from_logits=True),\n",
    "  metrics=['accuracy'])\n",
    "\n",
    "model.fit(\n",
    "    train_ds,\n",
    "    epochs=30,\n",
    "    validation_data=val_ds,\n",
    ")"
   ]
  },
  {
   "cell_type": "code",
   "execution_count": 42,
   "metadata": {},
   "outputs": [
    {
     "name": "stdout",
     "output_type": "stream",
     "text": [
      "(40, 40)\n"
     ]
    },
    {
     "data": {
      "image/png": "[encoded data removed]",
      "text/plain": [
       "<PIL.Image.Image image mode=RGB size=40x40>"
      ]
     },
     "metadata": {},
     "output_type": "display_data"
    },
    {
     "name": "stdout",
     "output_type": "stream",
     "text": [
      "(1, 40, 40)\n",
      "1/1 [==============================] - 0s 14ms/step\n",
      "['0.0000', '0.0000', '0.0000', '0.0000', '0.0000', '1.0000', '0.0000']\n",
      "1.0\n",
      "tarantallegra\n"
     ]
    }
   ],
   "source": [
    "img_array = [i for i in test_ds][0][0][0]\n",
    "array_shaped = img_array.numpy().reshape(40,40)\n",
    "print(array_shaped.shape)\n",
    "display(Image.fromarray(array_shaped).convert(\"RGB\"))\n",
    "print(np.expand_dims(np.squeeze(img_array), axis=0).shape)\n",
    "r = model.predict(np.expand_dims(np.squeeze(img_array), axis=0))\n",
    "print([f\"{i:.4f}\" for i in r[0]])\n",
    "print(np.max(r))\n",
    "raw_pred = tf.argmax(r, 1).numpy()[0]\n",
    "print(reverse_label_map[raw_pred])"
   ]
  },
  {
   "cell_type": "code",
   "execution_count": 6,
   "metadata": {},
   "outputs": [
    {
     "name": "stdout",
     "output_type": "stream",
     "text": [
      "images/good/crap/2660.png\n"
     ]
    },
    {
     "data": {
      "image/png": "[encoded data removed]",
      "text/plain": [
       "<PIL.PngImagePlugin.PngImageFile image mode=L size=40x40>"
      ]
     },
     "metadata": {},
     "output_type": "display_data"
    },
    {
     "name": "stdout",
     "output_type": "stream",
     "text": [
      "1/1 [==============================] - 0s 49ms/step\n",
      "['0.0000', '0.0000', '0.0000', '0.0000', '0.0000', '0.0000', '1.0000']\n",
      "1.0\n",
      "crap\n"
     ]
    }
   ],
   "source": [
    "random_path = os.path.join('images/good/crap', random.sample(os.listdir('images/good/crap'), k=1)[0])\n",
    "print(random_path)\n",
    "i = Image.open(random_path)\n",
    "display(i)\n",
    "img_array = np.asarray(i, dtype=np.uint8).reshape(40,40, 1)\n",
    "formatted_img_array = np.expand_dims(img_array, axis=0)\n",
    "r = model.predict(formatted_img_array)\n",
    "print([f\"{i:.4f}\" for i in r[0]])\n",
    "print(np.max(r))\n",
    "raw_pred = tf.argmax(r, 1).numpy()[0]\n",
    "print(reverse_label_map[raw_pred])\n"
   ]
  },
  {
   "cell_type": "code",
   "execution_count": 96,
   "metadata": {},
   "outputs": [
    {
     "name": "stdout",
     "output_type": "stream",
     "text": [
      "1/1 [==============================] - 0s 15ms/step\n",
      "1/1 [==============================] - 0s 14ms/step\n",
      "1/1 [==============================] - 0s 14ms/step\n",
      "1/1 [==============================] - 0s 14ms/step\n",
      "1/1 [==============================] - 0s 15ms/step\n",
      "1/1 [==============================] - 0s 14ms/step\n",
      "1/1 [==============================] - 0s 15ms/step\n",
      "1/1 [==============================] - 0s 15ms/step\n",
      "1/1 [==============================] - 0s 15ms/step\n",
      "1/1 [==============================] - 0s 22ms/step\n"
     ]
    },
    {
     "data": {
      "text/plain": [
       "Text(0.5, 1.0, 'Confusion Matrix')"
      ]
     },
     "execution_count": 96,
     "metadata": {},
     "output_type": "execute_result"
    },
    {
     "data": {
      "image/png": "[encoded data removed]",
      "text/plain": [
       "<Figure size 750x750 with 1 Axes>"
      ]
     },
     "metadata": {},
     "output_type": "display_data"
    }
   ],
   "source": [
    "real_classes = []\n",
    "pred_classes = []\n",
    "\n",
    "for batch in test_ds:\n",
    "    preds = model.predict(batch[0])\n",
    "    pred_classes.extend(tf.argmax(preds, 1).numpy())\n",
    "    real_classes.extend(batch[1].numpy())\n",
    "\n",
    "conf_matrix = tf.math.confusion_matrix(real_classes, pred_classes)\n",
    "\n",
    "fig, ax = plt.subplots(figsize=(7.5, 7.5))\n",
    "ax.matshow(conf_matrix, cmap=plt.cm.gray, alpha=0.3)\n",
    "for i in range(conf_matrix.shape[0]):\n",
    "    for j in range(conf_matrix.shape[1]):\n",
    "        ax.text(x=j, y=i,s=conf_matrix[i, j].numpy(), va='center', ha='center', size='xx-large')\n",
    " \n",
    "plt.xlabel('Predictions', fontsize=18)\n",
    "plt.ylabel('Actuals', fontsize=18)\n",
    "plt.title('Confusion Matrix', fontsize=18)"
   ]
  },
  {
   "cell_type": "code",
   "execution_count": 98,
   "metadata": {},
   "outputs": [
    {
     "name": "stdout",
     "output_type": "stream",
     "text": [
      "INFO:tensorflow:Unsupported signature for serialization: ((TensorSpec(shape=(3, 3, 1, 4), dtype=tf.float32, name='gradient'), <tensorflow.python.framework.func_graph.UnknownArgument object at 0x7f67001a2370>, 140082238381392), {}).\n"
     ]
    },
    {
     "name": "stderr",
     "output_type": "stream",
     "text": [
      "INFO:tensorflow:Unsupported signature for serialization: ((TensorSpec(shape=(3, 3, 1, 4), dtype=tf.float32, name='gradient'), <tensorflow.python.framework.func_graph.UnknownArgument object at 0x7f67001a2370>, 140082238381392), {}).\n"
     ]
    },
    {
     "name": "stdout",
     "output_type": "stream",
     "text": [
      "INFO:tensorflow:Unsupported signature for serialization: ((TensorSpec(shape=(4,), dtype=tf.float32, name='gradient'), <tensorflow.python.framework.func_graph.UnknownArgument object at 0x7f670015d640>, 140082238351472), {}).\n"
     ]
    },
    {
     "name": "stderr",
     "output_type": "stream",
     "text": [
      "INFO:tensorflow:Unsupported signature for serialization: ((TensorSpec(shape=(4,), dtype=tf.float32, name='gradient'), <tensorflow.python.framework.func_graph.UnknownArgument object at 0x7f670015d640>, 140082238351472), {}).\n"
     ]
    },
    {
     "name": "stdout",
     "output_type": "stream",
     "text": [
      "INFO:tensorflow:Unsupported signature for serialization: ((TensorSpec(shape=(3, 3, 4, 4), dtype=tf.float32, name='gradient'), <tensorflow.python.framework.func_graph.UnknownArgument object at 0x7f6700162e20>, 140082237806192), {}).\n"
     ]
    },
    {
     "name": "stderr",
     "output_type": "stream",
     "text": [
      "INFO:tensorflow:Unsupported signature for serialization: ((TensorSpec(shape=(3, 3, 4, 4), dtype=tf.float32, name='gradient'), <tensorflow.python.framework.func_graph.UnknownArgument object at 0x7f6700162e20>, 140082237806192), {}).\n"
     ]
    },
    {
     "name": "stdout",
     "output_type": "stream",
     "text": [
      "INFO:tensorflow:Unsupported signature for serialization: ((TensorSpec(shape=(4,), dtype=tf.float32, name='gradient'), <tensorflow.python.framework.func_graph.UnknownArgument object at 0x7f670010eac0>, 140082237806112), {}).\n"
     ]
    },
    {
     "name": "stderr",
     "output_type": "stream",
     "text": [
      "INFO:tensorflow:Unsupported signature for serialization: ((TensorSpec(shape=(4,), dtype=tf.float32, name='gradient'), <tensorflow.python.framework.func_graph.UnknownArgument object at 0x7f670010eac0>, 140082237806112), {}).\n"
     ]
    },
    {
     "name": "stdout",
     "output_type": "stream",
     "text": [
      "INFO:tensorflow:Unsupported signature for serialization: ((TensorSpec(shape=(1600, 128), dtype=tf.float32, name='gradient'), <tensorflow.python.framework.func_graph.UnknownArgument object at 0x7f6700123a30>, 140082237858800), {}).\n"
     ]
    },
    {
     "name": "stderr",
     "output_type": "stream",
     "text": [
      "INFO:tensorflow:Unsupported signature for serialization: ((TensorSpec(shape=(1600, 128), dtype=tf.float32, name='gradient'), <tensorflow.python.framework.func_graph.UnknownArgument object at 0x7f6700123a30>, 140082237858800), {}).\n"
     ]
    },
    {
     "name": "stdout",
     "output_type": "stream",
     "text": [
      "INFO:tensorflow:Unsupported signature for serialization: ((TensorSpec(shape=(128,), dtype=tf.float32, name='gradient'), <tensorflow.python.framework.func_graph.UnknownArgument object at 0x7f6700137a60>, 140082238196208), {}).\n"
     ]
    },
    {
     "name": "stderr",
     "output_type": "stream",
     "text": [
      "INFO:tensorflow:Unsupported signature for serialization: ((TensorSpec(shape=(128,), dtype=tf.float32, name='gradient'), <tensorflow.python.framework.func_graph.UnknownArgument object at 0x7f6700137a60>, 140082238196208), {}).\n"
     ]
    },
    {
     "name": "stdout",
     "output_type": "stream",
     "text": [
      "INFO:tensorflow:Unsupported signature for serialization: ((TensorSpec(shape=(128, 7), dtype=tf.float32, name='gradient'), <tensorflow.python.framework.func_graph.UnknownArgument object at 0x7f67000cb9d0>, 140082237860320), {}).\n"
     ]
    },
    {
     "name": "stderr",
     "output_type": "stream",
     "text": [
      "INFO:tensorflow:Unsupported signature for serialization: ((TensorSpec(shape=(128, 7), dtype=tf.float32, name='gradient'), <tensorflow.python.framework.func_graph.UnknownArgument object at 0x7f67000cb9d0>, 140082237860320), {}).\n"
     ]
    },
    {
     "name": "stdout",
     "output_type": "stream",
     "text": [
      "INFO:tensorflow:Unsupported signature for serialization: ((TensorSpec(shape=(7,), dtype=tf.float32, name='gradient'), <tensorflow.python.framework.func_graph.UnknownArgument object at 0x7f67000dda00>, 140082237860800), {}).\n"
     ]
    },
    {
     "name": "stderr",
     "output_type": "stream",
     "text": [
      "INFO:tensorflow:Unsupported signature for serialization: ((TensorSpec(shape=(7,), dtype=tf.float32, name='gradient'), <tensorflow.python.framework.func_graph.UnknownArgument object at 0x7f67000dda00>, 140082237860800), {}).\n"
     ]
    },
    {
     "name": "stdout",
     "output_type": "stream",
     "text": [
      "INFO:tensorflow:Unsupported signature for serialization: ((TensorSpec(shape=(3, 3, 1, 4), dtype=tf.float32, name='gradient'), <tensorflow.python.framework.func_graph.UnknownArgument object at 0x7f67001a2370>, 140082238381392), {}).\n"
     ]
    },
    {
     "name": "stderr",
     "output_type": "stream",
     "text": [
      "INFO:tensorflow:Unsupported signature for serialization: ((TensorSpec(shape=(3, 3, 1, 4), dtype=tf.float32, name='gradient'), <tensorflow.python.framework.func_graph.UnknownArgument object at 0x7f67001a2370>, 140082238381392), {}).\n"
     ]
    },
    {
     "name": "stdout",
     "output_type": "stream",
     "text": [
      "INFO:tensorflow:Unsupported signature for serialization: ((TensorSpec(shape=(4,), dtype=tf.float32, name='gradient'), <tensorflow.python.framework.func_graph.UnknownArgument object at 0x7f670015d640>, 140082238351472), {}).\n"
     ]
    },
    {
     "name": "stderr",
     "output_type": "stream",
     "text": [
      "INFO:tensorflow:Unsupported signature for serialization: ((TensorSpec(shape=(4,), dtype=tf.float32, name='gradient'), <tensorflow.python.framework.func_graph.UnknownArgument object at 0x7f670015d640>, 140082238351472), {}).\n"
     ]
    },
    {
     "name": "stdout",
     "output_type": "stream",
     "text": [
      "INFO:tensorflow:Unsupported signature for serialization: ((TensorSpec(shape=(3, 3, 4, 4), dtype=tf.float32, name='gradient'), <tensorflow.python.framework.func_graph.UnknownArgument object at 0x7f6700162e20>, 140082237806192), {}).\n"
     ]
    },
    {
     "name": "stderr",
     "output_type": "stream",
     "text": [
      "INFO:tensorflow:Unsupported signature for serialization: ((TensorSpec(shape=(3, 3, 4, 4), dtype=tf.float32, name='gradient'), <tensorflow.python.framework.func_graph.UnknownArgument object at 0x7f6700162e20>, 140082237806192), {}).\n"
     ]
    },
    {
     "name": "stdout",
     "output_type": "stream",
     "text": [
      "INFO:tensorflow:Unsupported signature for serialization: ((TensorSpec(shape=(4,), dtype=tf.float32, name='gradient'), <tensorflow.python.framework.func_graph.UnknownArgument object at 0x7f670010eac0>, 140082237806112), {}).\n"
     ]
    },
    {
     "name": "stderr",
     "output_type": "stream",
     "text": [
      "INFO:tensorflow:Unsupported signature for serialization: ((TensorSpec(shape=(4,), dtype=tf.float32, name='gradient'), <tensorflow.python.framework.func_graph.UnknownArgument object at 0x7f670010eac0>, 140082237806112), {}).\n"
     ]
    },
    {
     "name": "stdout",
     "output_type": "stream",
     "text": [
      "INFO:tensorflow:Unsupported signature for serialization: ((TensorSpec(shape=(1600, 128), dtype=tf.float32, name='gradient'), <tensorflow.python.framework.func_graph.UnknownArgument object at 0x7f6700123a30>, 140082237858800), {}).\n"
     ]
    },
    {
     "name": "stderr",
     "output_type": "stream",
     "text": [
      "INFO:tensorflow:Unsupported signature for serialization: ((TensorSpec(shape=(1600, 128), dtype=tf.float32, name='gradient'), <tensorflow.python.framework.func_graph.UnknownArgument object at 0x7f6700123a30>, 140082237858800), {}).\n"
     ]
    },
    {
     "name": "stdout",
     "output_type": "stream",
     "text": [
      "INFO:tensorflow:Unsupported signature for serialization: ((TensorSpec(shape=(128,), dtype=tf.float32, name='gradient'), <tensorflow.python.framework.func_graph.UnknownArgument object at 0x7f6700137a60>, 140082238196208), {}).\n"
     ]
    },
    {
     "name": "stderr",
     "output_type": "stream",
     "text": [
      "INFO:tensorflow:Unsupported signature for serialization: ((TensorSpec(shape=(128,), dtype=tf.float32, name='gradient'), <tensorflow.python.framework.func_graph.UnknownArgument object at 0x7f6700137a60>, 140082238196208), {}).\n"
     ]
    },
    {
     "name": "stdout",
     "output_type": "stream",
     "text": [
      "INFO:tensorflow:Unsupported signature for serialization: ((TensorSpec(shape=(128, 7), dtype=tf.float32, name='gradient'), <tensorflow.python.framework.func_graph.UnknownArgument object at 0x7f67000cb9d0>, 140082237860320), {}).\n"
     ]
    },
    {
     "name": "stderr",
     "output_type": "stream",
     "text": [
      "INFO:tensorflow:Unsupported signature for serialization: ((TensorSpec(shape=(128, 7), dtype=tf.float32, name='gradient'), <tensorflow.python.framework.func_graph.UnknownArgument object at 0x7f67000cb9d0>, 140082237860320), {}).\n"
     ]
    },
    {
     "name": "stdout",
     "output_type": "stream",
     "text": [
      "INFO:tensorflow:Unsupported signature for serialization: ((TensorSpec(shape=(7,), dtype=tf.float32, name='gradient'), <tensorflow.python.framework.func_graph.UnknownArgument object at 0x7f67000dda00>, 140082237860800), {}).\n"
     ]
    },
    {
     "name": "stderr",
     "output_type": "stream",
     "text": [
      "INFO:tensorflow:Unsupported signature for serialization: ((TensorSpec(shape=(7,), dtype=tf.float32, name='gradient'), <tensorflow.python.framework.func_graph.UnknownArgument object at 0x7f67000dda00>, 140082237860800), {}).\n",
      "WARNING:absl:Found untraced functions such as _jit_compiled_convolution_op, _jit_compiled_convolution_op, _update_step_xla while saving (showing 3 of 3). These functions will not be directly callable after loading.\n"
     ]
    },
    {
     "name": "stdout",
     "output_type": "stream",
     "text": [
      "INFO:tensorflow:Assets written to: output/assets\n"
     ]
    },
    {
     "name": "stderr",
     "output_type": "stream",
     "text": [
      "INFO:tensorflow:Assets written to: output/assets\n"
     ]
    }
   ],
   "source": [
    "model.save(\"output\")"
   ]
  }
 ],
 "metadata": {
  "kernelspec": {
   "display_name": "Python 3",
   "language": "python",
   "name": "python3"
  },
  "language_info": {
   "codemirror_mode": {
    "name": "ipython",
    "version": 3
   },
   "file_extension": ".py",
   "mimetype": "text/x-python",
   "name": "python",
   "nbconvert_exporter": "python",
   "pygments_lexer": "ipython3",
   "version": "3.9.5"
  },
  "orig_nbformat": 4,
  "vscode": {
   "interpreter": {
    "hash": "e7370f93d1d0cde622a1f8e1c04877d8463912d04d973331ad4851f04de6915a"
   }
  }
 },
 "nbformat": 4,
 "nbformat_minor": 2
}
