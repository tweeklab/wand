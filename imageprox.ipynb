{
 "cells": [
  {
   "cell_type": "code",
   "execution_count": 1,
   "metadata": {},
   "outputs": [],
   "source": [
    "from PIL import Image\n",
    "import numpy as np\n",
    "import cv2\n",
    "import seaborn as sns\n",
    "import matplotlib.patches as patches\n",
    "import pandas as pd\n",
    "from typing import NamedTuple"
   ]
  },
  {
   "cell_type": "code",
   "execution_count": 2,
   "metadata": {},
   "outputs": [],
   "source": [
    "i = Image.open(\"save.png\")"
   ]
  },
  {
   "cell_type": "code",
   "execution_count": 3,
   "metadata": {},
   "outputs": [],
   "source": [
    "binary = cv2.threshold(np.asarray(i), 70, 255,cv2.THRESH_BINARY)[1]"
   ]
  },
  {
   "cell_type": "code",
   "execution_count": 4,
   "metadata": {},
   "outputs": [
    {
     "data": {
      "image/png": "[encoded data removed]",
      "text/plain": [
       "<PIL.Image.Image image mode=L size=240x240>"
      ]
     },
     "execution_count": 4,
     "metadata": {},
     "output_type": "execute_result"
    }
   ],
   "source": [
    "Image.fromarray(binary)"
   ]
  },
  {
   "cell_type": "raw",
   "metadata": {},
   "source": [
    "hret = []\n",
    "for y in range(binary.shape[0]):\n",
    "    prev = False\n",
    "    for x in range(binary.shape[1]):\n",
    "        if binary[y][x] == 0:\n",
    "            if not prev:\n",
    "                hret.append((y,x))\n",
    "            prev = True\n",
    "        else:\n",
    "            if prev:\n",
    "                hret.append((y,x))\n",
    "            prev = False\n"
   ]
  },
  {
   "cell_type": "raw",
   "metadata": {},
   "source": [
    "vret = []\n",
    "for x in range(binary.shape[1]):\n",
    "    prev = False\n",
    "    for y in range(binary.shape[0]):\n",
    "        if binary[y][x] == 0:\n",
    "            if not prev:\n",
    "                vret.append((y,x))\n",
    "            prev = True\n",
    "        else:\n",
    "            if prev:\n",
    "                vret.append((y,x))\n",
    "            prev = False\n"
   ]
  },
  {
   "cell_type": "raw",
   "metadata": {},
   "source": [
    "ret = hret + vret"
   ]
  },
  {
   "cell_type": "raw",
   "metadata": {},
   "source": [
    "hret = []\n",
    "for y in range(binary.shape[0]):\n",
    "    prev = None\n",
    "    end = None\n",
    "    hang_counter = 0\n",
    "    for x in range(binary.shape[1]):\n",
    "        if binary[y][x] == 0:\n",
    "            hang_counter = 0\n",
    "            end = None\n",
    "            if prev is None:\n",
    "                prev = np.array((y,x))\n",
    "        else:\n",
    "            hang_counter += 1\n",
    "            if prev is not None:\n",
    "                if end is None:\n",
    "                    end = np.array((y,x))\n",
    "                if hang_counter > 3 or y == binary.shape[1]-1:\n",
    "                    hret.append(tuple(((prev+end)//2).tolist()))\n",
    "                    prev = None"
   ]
  },
  {
   "cell_type": "raw",
   "metadata": {},
   "source": [
    "vret = []\n",
    "for x in range(binary.shape[1]):\n",
    "    prev = None\n",
    "    end = None\n",
    "    hang_counter = 0\n",
    "    for y in range(binary.shape[0]):\n",
    "        if binary[y][x] == 0:\n",
    "            hang_counter = 0\n",
    "            end = None\n",
    "            if prev is None:\n",
    "                prev = np.array((y,x))\n",
    "        else:\n",
    "            hang_counter += 1\n",
    "            if prev is not None:\n",
    "                if end is None:\n",
    "                    end = np.array((y,x))\n",
    "                if hang_counter > 3 or y == binary.shape[1]-1:\n",
    "                    vret.append(tuple(((prev+end)//2).tolist()))\n",
    "                    prev = None"
   ]
  },
  {
   "cell_type": "raw",
   "metadata": {},
   "source": [
    "ret = list(set(hret).intersection(set(vret)))"
   ]
  },
  {
   "cell_type": "code",
   "execution_count": 5,
   "metadata": {},
   "outputs": [],
   "source": [
    "def group_starts(a):\n",
    "    if len(a) == 1:\n",
    "        return np.array([0,1])\n",
    "    shifted = np.array(list(zip(a[-len(a):], a[-len(a)+1:])))\n",
    "    res = np.array([i for i in map(lambda x: x[1] in (x[0], x[0]+1), shifted)])\n",
    "    # rest is based on https://gist.github.com/alimanfoo/c5977e87111abe8127453b21204c1065\n",
    "    cuts = np.empty(len(res), dtype=bool)\n",
    "    cuts[0] = True\n",
    "    np.not_equal(res[:-1], res[1:], out=cuts[1:])\n",
    "    starts = np.nonzero(cuts)[0]\n",
    "    return np.append(starts, None)"
   ]
  },
  {
   "cell_type": "code",
   "execution_count": 6,
   "metadata": {},
   "outputs": [],
   "source": [
    "# rects are in form:\n",
    "# tlx, tly, brx, bry\n",
    "class Overlap(NamedTuple):\n",
    "    overlapping: bool\n",
    "    tlx: int\n",
    "    tly: int\n",
    "    brx: int\n",
    "    bry: int\n",
    "def rect_overlap(r1, r2) -> Overlap:\n",
    "    merged_tlx = max(r1[0], r2[0])\n",
    "    merged_tly = max(r1[1], r2[1])\n",
    "    merged_brx = min(r1[2], r2[2])\n",
    "    merged_bry = min(r1[3], r2[3])\n",
    "\n",
    "    if merged_tlx > merged_brx or merged_tly > merged_bry:\n",
    "        overlap = False\n",
    "    else:\n",
    "        overlap = True\n",
    "    \n",
    "    return Overlap(\n",
    "        overlapping=overlap,\n",
    "        tlx=merged_tlx,\n",
    "        tly=merged_tly,\n",
    "        brx=merged_brx,\n",
    "        bry=merged_bry\n",
    "    )\n"
   ]
  },
  {
   "cell_type": "code",
   "execution_count": 7,
   "metadata": {},
   "outputs": [
    {
     "name": "stdout",
     "output_type": "stream",
     "text": [
      "{\n",
      "    Point(141, 22).\n",
      "    Point(138, 23).\n",
      "    Point(137, 24).\n",
      "    Point(138, 24).\n",
      "    Point(138, 25).\n",
      "    Point(138, 26).\n",
      "    Point(139, 26).\n",
      "    Point(140, 26).\n",
      "    Point(141, 26).\n",
      "    Point(139, 27).\n",
      "    Point(140, 27).\n",
      "    Point(165, 46).\n",
      "    Point(116, 114).\n",
      "    Point(117, 114).\n",
      "    Point(116, 115).\n",
      "    Point(117, 115).\n",
      "    Point(118, 115).\n",
      "    Point(116, 116).\n",
      "    Point(117, 116).\n",
      "    Point(118, 116).\n",
      "    Point(116, 117).\n",
      "    Point(117, 117).\n",
      "    Point(128, 126).\n",
      "    Point(126, 127).\n",
      "    Point(127, 127).\n",
      "    Point(128, 127).\n",
      "    Point(129, 127).\n",
      "    Point(130, 127).\n",
      "    Point(131, 127).\n",
      "    Point(132, 127).\n",
      "    Point(133, 127).\n",
      "    Point(134, 127).\n",
      "    Point(135, 127).\n",
      "    Point(136, 127).\n",
      "    Point(125, 128).\n",
      "    Point(126, 128).\n",
      "    Point(127, 128).\n",
      "    Point(128, 128).\n",
      "    Point(129, 128).\n",
      "    Point(130, 128).\n",
      "    Point(131, 128).\n",
      "    Point(132, 128).\n",
      "    Point(133, 128).\n",
      "    Point(134, 128).\n",
      "    Point(135, 128).\n",
      "    Point(136, 128).\n",
      "    Point(137, 128).\n",
      "    Point(138, 128).\n",
      "    Point(139, 128).\n",
      "    Point(125, 129).\n",
      "    Point(126, 129).\n",
      "    Point(127, 129).\n",
      "    Point(128, 129).\n",
      "    Point(129, 129).\n",
      "    Point(130, 129).\n",
      "    Point(131, 129).\n",
      "    Point(132, 129).\n",
      "    Point(133, 129).\n",
      "    Point(134, 129).\n",
      "    Point(135, 129).\n",
      "    Point(136, 129).\n",
      "    Point(137, 129).\n",
      "    Point(138, 129).\n",
      "    Point(139, 129).\n",
      "    Point(124, 130).\n",
      "    Point(125, 130).\n",
      "    Point(126, 130).\n",
      "    Point(127, 130).\n",
      "    Point(128, 130).\n",
      "    Point(129, 130).\n",
      "    Point(130, 130).\n",
      "    Point(131, 130).\n",
      "    Point(132, 130).\n",
      "    Point(133, 130).\n",
      "    Point(134, 130).\n",
      "    Point(135, 130).\n",
      "    Point(136, 130).\n",
      "    Point(137, 130).\n",
      "    Point(138, 130).\n",
      "    Point(139, 130).\n",
      "    Point(140, 130).\n",
      "    Point(125, 131).\n",
      "    Point(126, 131).\n",
      "    Point(127, 131).\n",
      "    Point(128, 131).\n",
      "    Point(133, 131).\n",
      "    Point(134, 131).\n",
      "    Point(135, 131).\n",
      "    Point(136, 131).\n",
      "    Point(137, 131).\n",
      "    Point(138, 131).\n",
      "    Point(139, 131).\n",
      "    Point(140, 131).\n",
      "    Point(141, 131).\n",
      "    Point(134, 132).\n",
      "    Point(135, 132).\n",
      "    Point(136, 132).\n",
      "    Point(137, 132).\n",
      "    Point(138, 132).\n",
      "    Point(139, 132).\n",
      "    Point(140, 132).\n",
      "    Point(141, 132).\n",
      "    Point(142, 132).\n",
      "    Point(136, 133).\n",
      "    Point(137, 133).\n",
      "    Point(138, 133).\n",
      "    Point(139, 133).\n",
      "    Point(140, 133).\n",
      "    Point(141, 133).\n",
      "    Point(142, 133).\n",
      "    Point(143, 133).\n",
      "    Point(122, 134).\n",
      "    Point(136, 134).\n",
      "    Point(137, 134).\n",
      "    Point(138, 134).\n",
      "    Point(139, 134).\n",
      "    Point(140, 134).\n",
      "    Point(141, 134).\n",
      "    Point(142, 134).\n",
      "    Point(143, 134).\n",
      "    Point(122, 135).\n",
      "    Point(126, 135).\n",
      "    Point(127, 135).\n",
      "    Point(128, 135).\n",
      "    Point(129, 135).\n",
      "    Point(130, 135).\n",
      "    Point(131, 135).\n",
      "    Point(132, 135).\n",
      "    Point(133, 135).\n",
      "    Point(134, 135).\n",
      "    Point(136, 135).\n",
      "    Point(137, 135).\n",
      "    Point(138, 135).\n",
      "    Point(139, 135).\n",
      "    Point(140, 135).\n",
      "    Point(141, 135).\n",
      "    Point(142, 135).\n",
      "    Point(126, 136).\n",
      "    Point(127, 136).\n",
      "    Point(128, 136).\n",
      "    Point(129, 136).\n",
      "    Point(130, 136).\n",
      "    Point(131, 136).\n",
      "    Point(132, 136).\n",
      "    Point(133, 136).\n",
      "    Point(134, 136).\n",
      "    Point(135, 136).\n",
      "    Point(136, 136).\n",
      "    Point(137, 136).\n",
      "    Point(138, 136).\n",
      "    Point(139, 136).\n",
      "    Point(140, 136).\n",
      "    Point(141, 136).\n",
      "    Point(142, 136).\n",
      "    Point(120, 137).\n",
      "    Point(121, 137).\n",
      "    Point(122, 137).\n",
      "    Point(123, 137).\n",
      "    Point(124, 137).\n",
      "    Point(126, 137).\n",
      "    Point(127, 137).\n",
      "    Point(128, 137).\n",
      "    Point(129, 137).\n",
      "    Point(130, 137).\n",
      "    Point(131, 137).\n",
      "    Point(132, 137).\n",
      "    Point(133, 137).\n",
      "    Point(134, 137).\n",
      "    Point(135, 137).\n",
      "    Point(136, 137).\n",
      "    Point(137, 137).\n",
      "    Point(138, 137).\n",
      "    Point(139, 137).\n",
      "    Point(140, 137).\n",
      "    Point(141, 137).\n",
      "    Point(142, 137).\n",
      "    Point(123, 138).\n",
      "    Point(124, 138).\n",
      "    Point(127, 138).\n",
      "    Point(128, 138).\n",
      "    Point(129, 138).\n",
      "    Point(130, 138).\n",
      "    Point(131, 138).\n",
      "    Point(132, 138).\n",
      "    Point(133, 138).\n",
      "    Point(134, 138).\n",
      "    Point(135, 138).\n",
      "    Point(136, 138).\n",
      "    Point(137, 138).\n",
      "    Point(138, 138).\n",
      "    Point(139, 138).\n",
      "    Point(134, 139).\n",
      "    Point(135, 139).\n",
      "    Point(136, 139).\n",
      "    Point(137, 139).\n",
      "    Point(138, 139).\n",
      "    Point(139, 139).\n",
      "    Point(139, 140).\n",
      "    Point(140, 140).\n",
      "    Point(141, 141).\n",
      "    Point(142, 141).\n",
      "}\n"
     ]
    }
   ],
   "source": [
    "ret = np.argwhere(binary == 0)\n",
    "print(\"{\")\n",
    "for p in ret:\n",
    "    print(f\"    Point({p[1]}, {p[0]}).\")\n",
    "print(\"}\")"
   ]
  },
  {
   "cell_type": "code",
   "execution_count": 8,
   "metadata": {},
   "outputs": [],
   "source": [
    "ret = np.argwhere(binary == 0)\n",
    "ret = np.array(sorted(list(map(tuple, ret)), key=lambda x:x[0]))\n",
    "y = np.squeeze(np.hsplit(ret, 2)[0])\n",
    "x = np.squeeze(np.hsplit(ret, 2)[1])"
   ]
  },
  {
   "cell_type": "code",
   "execution_count": 9,
   "metadata": {},
   "outputs": [],
   "source": [
    "box_points = []\n",
    "y_starts = group_starts(y)\n",
    "ys_prev = 0\n",
    "for ys in y_starts:\n",
    "    g = sorted(x[ys_prev:ys])\n",
    "    if not len(g):\n",
    "        continue\n",
    "    miny = min(y[ys_prev:ys])\n",
    "    maxy = max(y[ys_prev:ys])\n",
    "    if ys is not None:\n",
    "        ys_prev = ys+1\n",
    "    x_starts = group_starts(g)\n",
    "    xs_prev = 0\n",
    "    for xs in x_starts:\n",
    "        gsub = g[xs_prev:xs]\n",
    "        if not len(gsub):\n",
    "            continue\n",
    "        minx = min(gsub)\n",
    "        maxx = max(gsub)\n",
    "        box_points.append((minx, miny, maxx, maxy))\n",
    "        if xs is not None:\n",
    "            xs_prev = xs+1"
   ]
  },
  {
   "cell_type": "code",
   "execution_count": 10,
   "metadata": {},
   "outputs": [
    {
     "data": {
      "text/html": [
       "<div>\n",
       "<style scoped>\n",
       "    .dataframe tbody tr th:only-of-type {\n",
       "        vertical-align: middle;\n",
       "    }\n",
       "\n",
       "    .dataframe tbody tr th {\n",
       "        vertical-align: top;\n",
       "    }\n",
       "\n",
       "    .dataframe thead th {\n",
       "        text-align: right;\n",
       "    }\n",
       "</style>\n",
       "<table border=\"1\" class=\"dataframe\">\n",
       "  <thead>\n",
       "    <tr style=\"text-align: right;\">\n",
       "      <th></th>\n",
       "      <th>minx</th>\n",
       "      <th>miny</th>\n",
       "      <th>maxx</th>\n",
       "      <th>maxy</th>\n",
       "    </tr>\n",
       "  </thead>\n",
       "  <tbody>\n",
       "    <tr>\n",
       "      <th>0</th>\n",
       "      <td>137</td>\n",
       "      <td>22</td>\n",
       "      <td>141</td>\n",
       "      <td>27</td>\n",
       "    </tr>\n",
       "    <tr>\n",
       "      <th>1</th>\n",
       "      <td>165</td>\n",
       "      <td>46</td>\n",
       "      <td>165</td>\n",
       "      <td>46</td>\n",
       "    </tr>\n",
       "    <tr>\n",
       "      <th>2</th>\n",
       "      <td>116</td>\n",
       "      <td>114</td>\n",
       "      <td>118</td>\n",
       "      <td>117</td>\n",
       "    </tr>\n",
       "    <tr>\n",
       "      <th>3</th>\n",
       "      <td>120</td>\n",
       "      <td>126</td>\n",
       "      <td>143</td>\n",
       "      <td>141</td>\n",
       "    </tr>\n",
       "  </tbody>\n",
       "</table>\n",
       "</div>"
      ],
      "text/plain": [
       "   minx  miny  maxx  maxy\n",
       "0   137    22   141    27\n",
       "1   165    46   165    46\n",
       "2   116   114   118   117\n",
       "3   120   126   143   141"
      ]
     },
     "execution_count": 10,
     "metadata": {},
     "output_type": "execute_result"
    }
   ],
   "source": [
    "ybox_df = pd.DataFrame(box_points, columns=(\"minx\", \"miny\", \"maxx\", \"maxy\"))\n",
    "ybox_df"
   ]
  },
  {
   "cell_type": "code",
   "execution_count": 11,
   "metadata": {},
   "outputs": [],
   "source": [
    "ret = np.argwhere(binary == 0)\n",
    "ret = np.array(sorted(list(map(tuple, ret)), key=lambda x:x[1]))\n",
    "y = np.squeeze(np.hsplit(ret, 2)[0])\n",
    "x = np.squeeze(np.hsplit(ret, 2)[1])"
   ]
  },
  {
   "cell_type": "code",
   "execution_count": 12,
   "metadata": {},
   "outputs": [],
   "source": [
    "box_points = []\n",
    "x_starts = group_starts(x)\n",
    "xs_prev = 0\n",
    "for xs in x_starts:\n",
    "    g = sorted(y[xs_prev:xs])\n",
    "    if not len(g):\n",
    "        continue\n",
    "    minx = min(x[xs_prev:xs])\n",
    "    maxx = max(x[xs_prev:xs])\n",
    "    if xs is not None:\n",
    "        xs_prev = xs+1\n",
    "    y_starts = group_starts(g)\n",
    "    ys_prev = 0\n",
    "    for ys in y_starts:\n",
    "        gsub = g[ys_prev:ys]\n",
    "        if not len(gsub):\n",
    "            continue\n",
    "        miny = min(gsub)\n",
    "        maxy = max(gsub)\n",
    "        box_points.append((minx, miny, maxx, maxy))\n",
    "        if ys is not None:\n",
    "            ys_prev = ys+1"
   ]
  },
  {
   "cell_type": "code",
   "execution_count": 13,
   "metadata": {},
   "outputs": [
    {
     "data": {
      "text/html": [
       "<div>\n",
       "<style scoped>\n",
       "    .dataframe tbody tr th:only-of-type {\n",
       "        vertical-align: middle;\n",
       "    }\n",
       "\n",
       "    .dataframe tbody tr th {\n",
       "        vertical-align: top;\n",
       "    }\n",
       "\n",
       "    .dataframe thead th {\n",
       "        text-align: right;\n",
       "    }\n",
       "</style>\n",
       "<table border=\"1\" class=\"dataframe\">\n",
       "  <thead>\n",
       "    <tr style=\"text-align: right;\">\n",
       "      <th></th>\n",
       "      <th>minx</th>\n",
       "      <th>miny</th>\n",
       "      <th>maxx</th>\n",
       "      <th>maxy</th>\n",
       "    </tr>\n",
       "  </thead>\n",
       "  <tbody>\n",
       "    <tr>\n",
       "      <th>0</th>\n",
       "      <td>116</td>\n",
       "      <td>114</td>\n",
       "      <td>118</td>\n",
       "      <td>117</td>\n",
       "    </tr>\n",
       "    <tr>\n",
       "      <th>1</th>\n",
       "      <td>120</td>\n",
       "      <td>22</td>\n",
       "      <td>143</td>\n",
       "      <td>27</td>\n",
       "    </tr>\n",
       "    <tr>\n",
       "      <th>2</th>\n",
       "      <td>120</td>\n",
       "      <td>126</td>\n",
       "      <td>143</td>\n",
       "      <td>141</td>\n",
       "    </tr>\n",
       "    <tr>\n",
       "      <th>3</th>\n",
       "      <td>165</td>\n",
       "      <td>46</td>\n",
       "      <td>165</td>\n",
       "      <td>46</td>\n",
       "    </tr>\n",
       "  </tbody>\n",
       "</table>\n",
       "</div>"
      ],
      "text/plain": [
       "   minx  miny  maxx  maxy\n",
       "0   116   114   118   117\n",
       "1   120    22   143    27\n",
       "2   120   126   143   141\n",
       "3   165    46   165    46"
      ]
     },
     "execution_count": 13,
     "metadata": {},
     "output_type": "execute_result"
    }
   ],
   "source": [
    "xbox_df = pd.DataFrame(box_points, columns=(\"minx\", \"miny\", \"maxx\", \"maxy\"))\n",
    "xbox_df"
   ]
  },
  {
   "cell_type": "code",
   "execution_count": 14,
   "metadata": {},
   "outputs": [
    {
     "name": "stdout",
     "output_type": "stream",
     "text": [
      "Overlap(overlapping=True, tlx=116, tly=114, brx=118, bry=117)\n",
      "Overlap(overlapping=True, tlx=137, tly=22, brx=141, bry=27)\n",
      "Overlap(overlapping=True, tlx=120, tly=126, brx=143, bry=141)\n",
      "Overlap(overlapping=True, tlx=165, tly=46, brx=165, bry=46)\n"
     ]
    }
   ],
   "source": [
    "overlaps = []\n",
    "for (i,r1) in xbox_df.iterrows():\n",
    "    for (i,r2) in ybox_df.iterrows():\n",
    "        ov = rect_overlap(\n",
    "            (r1['minx'], r1['miny'], r1['maxx'], r1['maxy']),\n",
    "            (r2['minx'], r2['miny'], r2['maxx'], r2['maxy'])\n",
    "        )\n",
    "        if ov.overlapping:\n",
    "            print(ov)\n",
    "            overlaps.append(ov)"
   ]
  },
  {
   "cell_type": "code",
   "execution_count": 15,
   "metadata": {},
   "outputs": [],
   "source": [
    "splits = np.squeeze(np.hsplit(np.array(ret), 2))\n",
    "points = pd.DataFrame({'y': splits[0], 'x': splits[1]})"
   ]
  },
  {
   "cell_type": "code",
   "execution_count": 16,
   "metadata": {},
   "outputs": [
    {
     "data": {
      "image/png": "[encoded data removed]",
      "text/plain": [
       "<Figure size 640x480 with 1 Axes>"
      ]
     },
     "metadata": {},
     "output_type": "display_data"
    }
   ],
   "source": [
    "\n",
    "ax = sns.scatterplot(points, y='y', x='x', s=5)\n",
    "ax.invert_yaxis()\n",
    "ax.set_xlim(1, 240)\n",
    "ax.set_ylim(240, 1)\n",
    "\n",
    "# for (i,r) in xbox_df.iterrows():\n",
    "#     if r['minx'] == r['maxx'] and r['miny'] == r['maxy']:\n",
    "#         mypatch = patches.Circle((r['minx'], r['miny']), radius=1)\n",
    "#         mypatch.set(color='red', fill=False)\n",
    "#     else:\n",
    "#         base_point = (r['minx'], r['miny'])\n",
    "#         width = r['maxx'] - r['minx']\n",
    "#         height = r['maxy'] - r['miny']\n",
    "#         mypatch = patches.Rectangle(base_point, width, height)\n",
    "#         mypatch.set(color='red', fill=False)\n",
    "#     ax.add_patch(mypatch)\n",
    "\n",
    "# for (i,r) in ybox_df.iterrows():\n",
    "#     if r['minx'] == r['maxx'] and r['miny'] == r['maxy']:\n",
    "#         mypatch = patches.Circle((r['minx'], r['miny']), radius=1)\n",
    "#         mypatch.set(color='green', fill=False)\n",
    "#     else:\n",
    "#         base_point = (r['minx'], r['miny'])\n",
    "#         width = r['maxx'] - r['minx']\n",
    "#         height = r['maxy'] - r['miny']\n",
    "#         mypatch = patches.Rectangle(base_point, width, height)\n",
    "#         mypatch.set(color='green', fill=False)\n",
    "#     ax.add_patch(mypatch)\n",
    "\n",
    "for mr in overlaps:\n",
    "    if mr.tlx == mr.brx and mr.tly == mr.bry:\n",
    "        mypatch = patches.Circle((mr.tlx, mr.tly), radius=1)\n",
    "        mypatch.set(color='red', fill=False)\n",
    "    else:\n",
    "        base_point = (mr.tlx, mr.tly)\n",
    "        width = mr.brx - mr.tlx\n",
    "        height = mr.bry - mr.tly\n",
    "        mypatch = patches.Rectangle(base_point, width, height)\n",
    "        mypatch.set(color='orange', fill=False)\n",
    "    ax.add_patch(mypatch)\n"
   ]
  },
  {
   "cell_type": "code",
   "execution_count": 17,
   "metadata": {},
   "outputs": [
    {
     "data": {
      "text/plain": [
       "array([[129.29166667, 135.        ],\n",
       "       [ 26.83333333, 141.16666667],\n",
       "       [133.13114754, 127.14754098],\n",
       "       [115.5       , 116.8       ],\n",
       "       [135.84285714, 138.        ]])"
      ]
     },
     "execution_count": 17,
     "metadata": {},
     "output_type": "execute_result"
    }
   ],
   "source": [
    "from sklearn.cluster import KMeans\n",
    "model = KMeans(min(max(len(ret), 1), 5), n_init='auto', random_state=3).fit(ret)\n",
    "model.cluster_centers_"
   ]
  },
  {
   "attachments": {},
   "cell_type": "markdown",
   "metadata": {},
   "source": [
    "# TODO\n",
    "while scanning, each time we enter a dark area, extend a bounding\n",
    "box.  Extend one row past the current row.  On teh subsequent\n",
    "rows test if we are in one of the boxes and extend it if we are"
   ]
  },
  {
   "cell_type": "code",
   "execution_count": 18,
   "metadata": {},
   "outputs": [
    {
     "data": {
      "text/plain": [
       "array([[135.52779 , 138.22223 ],\n",
       "       [ 26.833334, 141.16667 ],\n",
       "       [115.5     , 116.8     ],\n",
       "       [128.92453 , 133.62265 ],\n",
       "       [134.16667 , 127.07407 ]], dtype=float32)"
      ]
     },
     "execution_count": 18,
     "metadata": {},
     "output_type": "execute_result"
    }
   ],
   "source": [
    "ret.astype(np.float32)\n",
    "import cv2 as cv\n",
    "criteria = (cv.TERM_CRITERIA_EPS + cv.TERM_CRITERIA_MAX_ITER, 10, 1.0)\n",
    "flags = cv.KMEANS_RANDOM_CENTERS\n",
    "compactness,labels,centers = cv.kmeans(ret.astype(np.float32),min(max(len(ret), 1), 5),None,criteria,10,flags)\n",
    "ret = centers\n",
    "ret"
   ]
  }
 ],
 "metadata": {
  "kernelspec": {
   "display_name": "Python 3",
   "language": "python",
   "name": "python3"
  },
  "language_info": {
   "codemirror_mode": {
    "name": "ipython",
    "version": 3
   },
   "file_extension": ".py",
   "mimetype": "text/x-python",
   "name": "python",
   "nbconvert_exporter": "python",
   "pygments_lexer": "ipython3",
   "version": "3.9.5"
  },
  "orig_nbformat": 4,
  "vscode": {
   "interpreter": {
    "hash": "e7370f93d1d0cde622a1f8e1c04877d8463912d04d973331ad4851f04de6915a"
   }
  }
 },
 "nbformat": 4,
 "nbformat_minor": 2
}
