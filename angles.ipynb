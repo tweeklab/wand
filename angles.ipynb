{
 "cells": [
  {
   "cell_type": "code",
   "execution_count": 44,
   "metadata": {},
   "outputs": [],
   "source": [
    "import numpy as np\n",
    "import seaborn as sns\n",
    "import matplotlib.pyplot as plt\n",
    "import pandas as pd\n",
    "from time import time,sleep\n"
   ]
  },
  {
   "cell_type": "code",
   "execution_count": 45,
   "metadata": {},
   "outputs": [],
   "source": [
    "def displacement1(v0, v1):\n",
    "    angle = np.arctan2(np.linalg.det([v0,v1]),np.dot(v0,v1))\n",
    "    raw_disp = np.degrees(angle)\n",
    "    if raw_disp < 0:\n",
    "        disp = -180 - raw_disp\n",
    "    else:\n",
    "        disp = 180 - raw_disp\n",
    "    return disp\n",
    "\n",
    "def displacement2(v0, v1):\n",
    "    angle = np.arctan2(np.linalg.det([v0,v1]),np.dot(v0,v1))\n",
    "    disp = 180-np.abs(np.degrees(angle))\n",
    "    return disp"
   ]
  },
  {
   "cell_type": "code",
   "execution_count": 59,
   "metadata": {},
   "outputs": [
    {
     "name": "stdout",
     "output_type": "stream",
     "text": [
      "[-61 130]\n",
      "[ 1 -2]\n",
      "143.60013927569847\n",
      "1.4276366745602331\n",
      "205.00882530194448\n",
      "=====\n",
      "[-1  2]\n",
      "[ 0 -1]\n",
      "2.23606797749979\n",
      "26.565051177078004\n",
      "59.40126025770722\n"
     ]
    }
   ],
   "source": [
    "points = [\n",
    "# (117, 342), (123, 347), (123, 347), (123, 348)\n",
    "(117, 342), (178, 212), (179, 210), (179, 209)\n",
    "]\n",
    "\n",
    "vectors = pd.DataFrame(\n",
    "    {\"x\": [x[0] for x in points], \"y\": [x[1] for x in points]}\n",
    ")\n",
    "v1 = np.array(points[0]) - np.array(points[1]) # type: ignore\n",
    "v0 = np.array(points[2]) - np.array(points[1]) # type: ignore\n",
    "print(v1)\n",
    "print(v0)\n",
    "print(np.linalg.norm(v1))\n",
    "print(displacement2(v0, v1))\n",
    "print(displacement2(v0, v1) * np.linalg.norm(v1))\n",
    "print(\"=====\")\n",
    "v1 = np.array(points[1]) - np.array(points[2]) # type: ignore\n",
    "v0 = np.array(points[3]) - np.array(points[2]) # type: ignore\n",
    "print(v1)\n",
    "print(v0)\n",
    "print(np.linalg.norm(v1))\n",
    "print(displacement2(v0, v1))\n",
    "print(displacement2(v0, v1) * np.linalg.norm(v1))"
   ]
  },
  {
   "cell_type": "code",
   "execution_count": 51,
   "metadata": {},
   "outputs": [
    {
     "data": {
      "text/plain": [
       "[<matplotlib.lines.Line2D at 0x7fb302154100>]"
      ]
     },
     "execution_count": 51,
     "metadata": {},
     "output_type": "execute_result"
    },
    {
     "data": {
      "image/png": "[encoded data removed]",
      "text/plain": [
       "<Figure size 1200x900 with 1 Axes>"
      ]
     },
     "metadata": {},
     "output_type": "display_data"
    }
   ],
   "source": [
    "sns.set(style=\"darkgrid\")\n",
    "\n",
    "fig = plt.figure(figsize=(8, 6), dpi=150)\n",
    "ax_fixed = fig.add_subplot(121)\n",
    "\n",
    "ax_fixed.set_xlabel(\"X\")\n",
    "ax_fixed.set_ylabel(\"Y\")\n",
    "ax_fixed.set(\n",
    "    # ylim=(0, 400),\n",
    "    # xlim=(0, 400),\n",
    "    # xticks=[i for i in range(0, 450, 50)],\n",
    "    aspect=\"equal\",\n",
    ")\n",
    "ax_fixed.plot(vectors.x, vectors.y, color=\"green\", marker=\".\", linewidth=1)\n",
    "# ax_fixed.plot([0,v0[0]], [0,v0[1]], color=\"orange\", marker=\".\")\n",
    "# ax_fixed.plot([0,v1[0]], [0,v1[1]], color=\"purple\", marker=\".\")\n"
   ]
  },
  {
   "cell_type": "code",
   "execution_count": 48,
   "metadata": {},
   "outputs": [
    {
     "data": {
      "text/plain": [
       "[0, array([0, 0])]"
      ]
     },
     "execution_count": 48,
     "metadata": {},
     "output_type": "execute_result"
    }
   ],
   "source": [
    "[0, v0]"
   ]
  }
 ],
 "metadata": {
  "kernelspec": {
   "display_name": "Python 3",
   "language": "python",
   "name": "python3"
  },
  "language_info": {
   "codemirror_mode": {
    "name": "ipython",
    "version": 3
   },
   "file_extension": ".py",
   "mimetype": "text/x-python",
   "name": "python",
   "nbconvert_exporter": "python",
   "pygments_lexer": "ipython3",
   "version": "3.10.9"
  },
  "orig_nbformat": 4,
  "vscode": {
   "interpreter": {
    "hash": "949777d72b0d2535278d3dc13498b2535136f6dfe0678499012e853ee9abcab1"
   }
  }
 },
 "nbformat": 4,
 "nbformat_minor": 2
}
